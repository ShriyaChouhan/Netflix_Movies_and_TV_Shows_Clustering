{
  "nbformat": 4,
  "nbformat_minor": 0,
  "metadata": {
    "colab": {
      "private_outputs": true,
      "provenance": [],
      "collapsed_sections": [
        "FJNUwmbgGyua",
        "yQaldy8SH6Dl",
        "mDgbUHAGgjLW",
        "Y3lxredqlCYt",
        "3RnN4peoiCZX",
        "x71ZqKXriCWQ",
        "7hBIi_osiCS2",
        "JlHwYmJAmNHm",
        "PoPl-ycgm1ru",
        "H0kj-8xxnORC",
        "nA9Y7ga8ng1Z",
        "u3PMJOP6ngxN",
        "bKJF3rekwFvQ",
        "0wOQAZs5pc--",
        "KSlN3yHqYklG",
        "EM7whBJCYoAo",
        "4Of9eVA-YrdM",
        "bamQiAODYuh1",
        "OH-pJp9IphqM",
        "PIIx-8_IphqN",
        "YJ55k-q6phqO",
        "U2RJ9gkRphqQ",
        "1M8mcRywphqQ",
        "tgIPom80phqQ",
        "JMzcOPDDphqR",
        "x-EpHcCOp1ci",
        "X_VqEhTip1ck",
        "8zGJKyg5p1ck",
        "PVzmfK_Ep1ck",
        "n3dbpmDWp1ck",
        "ylSl6qgtp1ck",
        "ZWILFDl5p1ck",
        "M7G43BXep1ck",
        "Ag9LCva-p1cl",
        "E6MkPsBcp1cl",
        "2cELzS2fp1cl",
        "3MPXvC8up1cl",
        "NC_X3p0fY2L0",
        "UV0SzAkaZNRQ",
        "YPEH6qLeZNRQ",
        "q29F0dvdveiT",
        "EXh0U9oCveiU",
        "22aHeOlLveiV",
        "g-ATYxFrGrvw",
        "Yfr_Vlr8HBkt",
        "8yEUt7NnHlrM",
        "tEA2Xm5dHt1r",
        "I79__PHVH19G",
        "Ou-I18pAyIpj",
        "fF3858GYyt-u",
        "4_0_7-oCpUZd",
        "hwyV_J3ipUZe",
        "3yB-zSqbpUZe",
        "dEUvejAfpUZe",
        "Fd15vwWVpUZf",
        "bn_IUdTipZyH",
        "49K5P_iCpZyH",
        "Nff-vKELpZyI",
        "kLW572S8pZyI",
        "dWbDXHzopZyI",
        "yLjJCtPM0KBk",
        "xiyOF9F70UgQ",
        "7wuGOrhz0itI",
        "id1riN9m0vUs",
        "578E2V7j08f6",
        "89xtkJwZ18nB",
        "67NQN5KX2AMe",
        "Iwf50b-R2tYG",
        "GMQiZwjn3iu7",
        "WVIkgGqN3qsr",
        "XkPnILGE3zoT",
        "Hlsf0x5436Go",
        "mT9DMSJo4nBL",
        "c49ITxTc407N",
        "OeJFEK0N496M",
        "9ExmJH0g5HBk",
        "cJNqERVU536h",
        "k5UmGsbsOxih",
        "T0VqWOYE6DLQ",
        "qBMux9mC6MCf",
        "-oLEiFgy-5Pf",
        "C74aWNz2AliB",
        "2DejudWSA-a0",
        "pEMng2IbBLp7",
        "rAdphbQ9Bhjc",
        "TNVZ9zx19K6k",
        "nqoHp30x9hH9",
        "rMDnDkt2B6du",
        "yiiVWRdJDDil",
        "1UUpS68QDMuG",
        "kexQrXU-DjzY",
        "T5CmagL3EC8N",
        "BhH2vgX9EjGr",
        "qjKvONjwE8ra",
        "P1XJ9OREExlT",
        "VFOzZv6IFROw",
        "TIqpNgepFxVj",
        "VfCC591jGiD4",
        "OB4l2ZhMeS1U",
        "ArJBuiUVfxKd",
        "4qY1EAkEfxKe",
        "PiV4Ypx8fxKe",
        "TfvqoZmBfxKf",
        "dJ2tPlVmpsJ0",
        "JWYfwnehpsJ1",
        "-jK_YjpMpsJ2",
        "HAih1iBOpsJ2",
        "zVGeBEFhpsJ2",
        "bmKjuQ-FpsJ3",
        "Fze-IPXLpx6K",
        "7AN1z2sKpx6M",
        "9PIHJqyupx6M",
        "_-qAgymDpx6N",
        "Z-hykwinpx6N",
        "h_CCil-SKHpo",
        "cBFFvTBNJzUa",
        "HvGl1hHyA_VK",
        "EyNgTHvd2WFk",
        "KH5McJBi2d8v",
        "iW_Lq9qf2h6X",
        "-Kee-DAl2viO",
        "gCX9965dhzqZ",
        "gIfDvo9L0UH2"
      ]
    },
    "kernelspec": {
      "name": "python3",
      "display_name": "Python 3"
    },
    "language_info": {
      "name": "python"
    }
  },
  "cells": [
    {
      "cell_type": "markdown",
      "source": [
        "# ***Netflix Movies and TV Shows Clustering***\n",
        "\n",
        "\n",
        "\n",
        "---\n",
        "\n",
        "\n",
        "![netflixx.webp](data:image/webp;base64,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)\n",
        "\n",
        "\n",
        "------\n",
        "\n",
        "\n",
        "\n"
      ],
      "metadata": {
        "id": "vncDsAP0Gaoa"
      }
    },
    {
      "cell_type": "markdown",
      "source": [
        "##### **Project Type**    - EDA/Unsupervised\n",
        "##### **Name** :- Shriya Chouhan\n",
        "\n",
        "\n"
      ],
      "metadata": {
        "id": "beRrZCGUAJYm"
      }
    },
    {
      "cell_type": "markdown",
      "source": [
        "# **Project Summary -**"
      ],
      "metadata": {
        "id": "FJNUwmbgGyua"
      }
    },
    {
      "cell_type": "markdown",
      "source": [
        "### **Project Summary: Unveiling Viewer Preferences through Clustering Analysis of Netflix Content**\n",
        "\n",
        "In this project, we delve into the realm of Netflix movies and TV shows by conducting a comprehensive clustering analysis. The dataset, named \"NETFLIX MOVIES AND TV SHOWS CLUSTERING.CSV,\" encompasses a wide array of details about the content available on the Netflix platform. The primary objective of this undertaking is to unravel underlying patterns in viewer preferences, allowing us to discern distinct content categories and enhance content recommendation systems.\n",
        "\n",
        "### **Dataset Overview:**\n",
        "The dataset provides a wealth of information for each movie and TV show, ranging from title, release year, genre, duration, to other pertinent attributes. These attributes offer a holistic view of Netflix's content library, serving as the foundation for our clustering analysis.\n",
        "### **Methodology:**\n",
        "1. **Data Exploration and Cleaning:--** Commence by loading and examining the CSV file, followed by thorough data cleaning. Tasks involve handling missing values, encoding categorical features (e.g., genre), and potentially transforming or normalizing numerical features.\n",
        "2. **Feature Selection:--**  Tailor the dataset to include relevant features conducive to clustering analysis. Factors like genre, release year, and duration could significantly influence content categorization.\n",
        "3. **Clustering Algorithm Selection:--** Opt for appropriate clustering algorithms aligned with the dataset's characteristics and project goals. Options encompass K-Means, Hierarchical Clustering, and Density-Based Spatial Clustering of Applications with Noise (DBSCAN).\n",
        "4. **Dimensionality Reduction (if applicable):--**  If the dataset is high-dimensional, employ techniques like Principal Component Analysis (PCA) or t-Distributed Stochastic Neighbor Embedding (t-SNE) to condense the data for easier visualization and clustering.\n",
        "5. **Clustering Analysis:--** Apply chosen clustering algorithms to the dataset. Analyze the resulting clusters in terms of composition, distribution, and notable attributes.\n",
        "6. **Cluster Visualization:--** Utilize dimensionality reduction outcomes to create visualizations that portray the clusters' spatial relationships, aiding in understanding content groupings.\n",
        "7. **Interpreting Clusters:--** For each cluster, dissect the characteristics of the movies and TV shows within. Uncover shared traits, prevalent genres, and potential viewer preferences encapsulated within each cluster.\n",
        "8. **Evaluation (if applicable):--** If ground truth labels are available (e.g., genre labels), employ metrics like Adjusted Rand Index or Normalized Mutual Information to assess clustering quality.\n",
        "\n",
        "###**Project Deliverables:**\n",
        "1. **Exploratory Data Analysis (EDA):--** Offer insights into data statistics, distributions, and visualizations to provide a preliminary grasp of content attributes.\n",
        "2. **Clustering Analysis Results:--** Present outcomes of the clustering analysis, outlining cluster distribution, characteristics, and key attributes.\n",
        "3. **Visualizations:--** Showcase visual representations of clusters, enabling intuitive understanding of content groupings.\n",
        "4. **Insights and Interpretations:--** Share profound insights drawn from cluster analysis, potentially revealing interesting content groupings or genre associations.\n",
        "\n",
        "### Conclusion:--\n",
        "By conducting a thorough clustering analysis on the Netflix movies and TV shows dataset, this project aims to illuminate latent patterns in viewer preferences. The insights gleaned from this endeavor have the potential to bolster content recommendation algorithms, enrich user experience, and shed light on the intricate landscape of content categorization on the Netflix platform.\n",
        "\n",
        "\n",
        "\n",
        "\n"
      ],
      "metadata": {
        "id": "F6v_1wHtG2nS"
      }
    },
    {
      "cell_type": "markdown",
      "source": [
        "# **GitHub Link -**"
      ],
      "metadata": {
        "id": "w6K7xa23Elo4"
      }
    },
    {
      "cell_type": "markdown",
      "source": [
        "https://github.com/ShriyaChouhan/Netflix_Movies_and_TV_Shows_Clustering"
      ],
      "metadata": {
        "id": "2ftHi_a9BXWR"
      }
    },
    {
      "cell_type": "markdown",
      "source": [
        "# **Problem Statement**\n"
      ],
      "metadata": {
        "id": "yQaldy8SH6Dl"
      }
    },
    {
      "cell_type": "markdown",
      "source": [
        "### ***Problem Statement: Uncovering Content Patterns through Clustering Analysis of Netflix Movies and TV Shows***\n",
        "In the era of digital streaming, Netflix hosts an extensive library of movies and TV shows, catering to a diverse global audience. However, the challenge lies in efficiently organizing this immense collection to deliver personalized recommendations and enhance user satisfaction. The problem at hand is to perform a comprehensive clustering analysis on the dataset named \"NETFLIX MOVIES AND TV SHOWS CLUSTERING.CSV,\" aiming to reveal latent content patterns, genre associations, and viewer preferences. The ultimate goal is to provide actionable insights that can optimize content categorization and enhance the overall user experience on the Netflix platform.\n",
        "**Key Challenges:--**\n",
        "1. **Content Diversity:--** The dataset covers a wide range of genres, languages, and release years, making it intricate to discern coherent content clusters solely based on attributes like genre or duration.\n",
        "2. **Feature Selection:--** Determining the most influential attributes for clustering is crucial. Choosing whether to incorporate variables such as cast, directors, or language while managing computational complexity poses a challenge.\n",
        "\n",
        "3. **Dimensionality:--** High-dimensional data can hinder effective clustering analysis. Selecting appropriate dimensionality reduction techniques to capture essential information while reducing noise requires careful consideration.\n",
        "\n",
        "4. **Cluster Interpretation:--** Forming clusters is only the first step. Unveiling the underlying characteristics of these clusters in terms of prevalent genres, content themes, and viewer preferences requires insightful analysis.\n",
        "\n",
        "5.**Algorithm Selection:--** Choosing the right clustering algorithms that capture the intrinsic structure of the data and result in meaningful clusters is a critical decision.\n",
        "\n",
        "6. **Evaluation:--** In the absence of predefined labels, assessing the quality of clusters poses a challenge. Selecting suitable evaluation metrics to measure clustering effectiveness and coherence is essential.\n",
        "\n",
        "### ***Objectives:--***\n",
        "This project aims to achieve the following objectives:--\n",
        "\n",
        "1. **Data Preprocessing:--** Rigorously clean and preprocess the \"NETFLIX MOVIES AND TV SHOWS CLUSTERING.CSV\" dataset, addressing missing data, encoding categorical variables, and transforming numerical features.\n",
        "\n",
        "2. **Clustering Analysis:--** Apply advanced clustering algorithms, such as Gaussian Mixture Models (GMM) or Agglomerative Hierarchical Clustering, to unveil latent content patterns and relationships.\n",
        "\n",
        "3. **Dimensionality Reduction:--** Employ dimensionality reduction techniques like Linear Discriminant Analysis (LDA) or Autoencoders to transform high-dimensional data into a more manageable format while retaining key information.\n",
        "\n",
        "4. **Cluster Interpretation:--** Thoroughly interpret the formed clusters, identifying prevalent genres, recurring content themes, and potential viewer preferences within each cluster.\n",
        "\n",
        "5.**Insights Generation:--** Extract actionable insights from the clustering outcomes that can directly influence content recommendation strategies, content categorization, and user engagement enhancement.\n",
        "\n",
        "6. **Documentation and Presentation:--** Provide clear documentation of the analysis pipeline, from data preprocessing to clustering algorithms used, visualization methods, insights gained, and potential applications.\n",
        "\n",
        "### ***Expected Outcomes:--***\n",
        "The successful completion of this project is anticipated to yield the following outcomes:\n",
        "\n",
        "1. Well-defined clusters of Netflix movies and TV shows that encapsulate content relationships and viewer preferences.\n",
        "2. Visual representations of clusters, aiding in comprehending content distributions and potential trends across clusters.\n",
        "3. In-depth insights into genre associations, content theme dynamics, and potential cross-genre viewer preferences.\n",
        "4. Recommendations for refining content recommendation algorithms, contributing to improved user satisfaction and engagement on the Netflix platform.\n",
        "### ***Impact:---***\n",
        "The results of this project have the potential to revolutionize content organization and recommendation on the Netflix platform. By gaining a deeper understanding of content patterns and viewer preferences through clustering analysis, Netflix can enhance its recommendation algorithms, leading to increased user engagement, satisfaction, and potentially broadening its viewer base."
      ],
      "metadata": {
        "id": "DpeJGUA3kjGy"
      }
    },
    {
      "cell_type": "markdown",
      "source": [
        "# **General Guidelines** : -  "
      ],
      "metadata": {
        "id": "mDgbUHAGgjLW"
      }
    },
    {
      "cell_type": "markdown",
      "source": [
        "1.   Well-structured, formatted, and commented code is required.\n",
        "2.   Exception Handling, Production Grade Code & Deployment Ready Code will be a plus. Those students will be awarded some additional credits.\n",
        "     \n",
        "     The additional credits will have advantages over other students during Star Student selection.\n",
        "       \n",
        "             [ Note: - Deployment Ready Code is defined as, the whole .ipynb notebook should be executable in one go\n",
        "                       without a single error logged. ]\n",
        "\n",
        "3.   Each and every logic should have proper comments.\n",
        "4. You may add as many number of charts you want. Make Sure for each and every chart the following format should be answered.\n",
        "        \n",
        "\n",
        "```\n",
        "# Chart visualization code\n",
        "```\n",
        "            \n",
        "\n",
        "*   Why did you pick the specific chart?\n",
        "*   What is/are the insight(s) found from the chart?\n",
        "* Will the gained insights help creating a positive business impact?\n",
        "Are there any insights that lead to negative growth? Justify with specific reason.\n",
        "\n",
        "5. You have to create at least 15 logical & meaningful charts having important insights.\n",
        "\n",
        "\n",
        "[ Hints : - Do the Vizualization in  a structured way while following \"UBM\" Rule.\n",
        "\n",
        "U - Univariate Analysis,\n",
        "\n",
        "B - Bivariate Analysis (Numerical - Categorical, Numerical - Numerical, Categorical - Categorical)\n",
        "\n",
        "M - Multivariate Analysis\n",
        " ]\n",
        "\n",
        "\n",
        "\n",
        "\n",
        "\n",
        "6. You may add more ml algorithms for model creation. Make sure for each and every algorithm, the following format should be answered.\n",
        "\n",
        "\n",
        "*   Explain the ML Model used and it's performance using Evaluation metric Score Chart.\n",
        "\n",
        "\n",
        "*   Cross- Validation & Hyperparameter Tuning\n",
        "\n",
        "*   Have you seen any improvement? Note down the improvement with updates Evaluation metric Score Chart.\n",
        "\n",
        "*   Explain each evaluation metric's indication towards business and the business impact pf the ML model used.\n",
        "\n",
        "\n",
        "\n",
        "\n",
        "\n",
        "\n",
        "\n",
        "\n",
        "\n",
        "\n",
        "\n",
        "\n",
        "\n",
        "\n",
        "\n",
        "\n",
        "\n",
        "\n"
      ],
      "metadata": {
        "id": "ZrxVaUj-hHfC"
      }
    },
    {
      "cell_type": "markdown",
      "source": [
        "# ***Let's Begin !***"
      ],
      "metadata": {
        "id": "O_i_v8NEhb9l"
      }
    },
    {
      "cell_type": "markdown",
      "source": [
        "## ***1. Know Your Data***"
      ],
      "metadata": {
        "id": "HhfV-JJviCcP"
      }
    },
    {
      "cell_type": "markdown",
      "source": [
        "### Import Libraries"
      ],
      "metadata": {
        "id": "Y3lxredqlCYt"
      }
    },
    {
      "cell_type": "code",
      "source": [
        "# Import Libraries\n",
        "# Import Libraries for Data Manipulation and Visualization\n",
        "import numpy as np\n",
        "import pandas as pd\n",
        "import seaborn as sns\n",
        "import matplotlib.pyplot as plt\n",
        "import scipy.stats as stats\n",
        "\n",
        "# Import Warnings Module to Suppress Warnings\n",
        "import warnings\n",
        "warnings.filterwarnings(\"ignore\")"
      ],
      "metadata": {
        "id": "M8Vqi-pPk-HR"
      },
      "execution_count": null,
      "outputs": []
    },
    {
      "cell_type": "markdown",
      "source": [
        "### Dataset Loading"
      ],
      "metadata": {
        "id": "3RnN4peoiCZX"
      }
    },
    {
      "cell_type": "code",
      "source": [
        "# Load Dataset\n",
        "from google.colab import drive\n",
        "drive.mount('/content/drive', force_remount=True)"
      ],
      "metadata": {
        "id": "4CkvbW_SlZ_R"
      },
      "execution_count": null,
      "outputs": []
    },
    {
      "cell_type": "code",
      "source": [
        "path =  \"/content/drive/MyDrive/AlmaBetter/Capstone Projects/Netflix_Movies_and_TV_shows_clustering/\"\n",
        "netflix_dataset = pd.read_csv(path + \"NETFLIX MOVIES AND TV SHOWS CLUSTERING.csv\")"
      ],
      "metadata": {
        "id": "Oa15MOq-uMmr"
      },
      "execution_count": null,
      "outputs": []
    },
    {
      "cell_type": "markdown",
      "source": [
        "### Dataset First View"
      ],
      "metadata": {
        "id": "x71ZqKXriCWQ"
      }
    },
    {
      "cell_type": "code",
      "source": [
        "# Dataset First Look\n",
        "netflix_dataset.head()"
      ],
      "metadata": {
        "id": "LWNFOSvLl09H"
      },
      "execution_count": null,
      "outputs": []
    },
    {
      "cell_type": "code",
      "source": [
        "# Dataset last look\n",
        "netflix_dataset.tail()"
      ],
      "metadata": {
        "id": "GhE9Z50awNgd"
      },
      "execution_count": null,
      "outputs": []
    },
    {
      "cell_type": "markdown",
      "source": [
        "### Dataset Rows & Columns count"
      ],
      "metadata": {
        "id": "7hBIi_osiCS2"
      }
    },
    {
      "cell_type": "code",
      "source": [
        "# Netflix Dataset Rows & Columns count\n",
        "# Count the number of rows\n",
        "rows = len(netflix_dataset.index)\n",
        "\n",
        "# Count the  number of columns\n",
        "columns = len(netflix_dataset.columns)\n",
        "\n",
        "# Print the number of rows and columns\n",
        "print(\"The number of  rows is:\", rows)\n",
        "print(\"The number of  columns is:\", columns)"
      ],
      "metadata": {
        "id": "Kllu7SJgmLij"
      },
      "execution_count": null,
      "outputs": []
    },
    {
      "cell_type": "markdown",
      "source": [
        "### Dataset Information"
      ],
      "metadata": {
        "id": "JlHwYmJAmNHm"
      }
    },
    {
      "cell_type": "code",
      "source": [
        "# Netflix Dataset Info\n",
        "load_data_info = netflix_dataset.info()\n",
        "print(load_data_info)"
      ],
      "metadata": {
        "id": "e9hRXRi6meOf"
      },
      "execution_count": null,
      "outputs": []
    },
    {
      "cell_type": "markdown",
      "source": [
        "#### Duplicate Values"
      ],
      "metadata": {
        "id": "35m5QtbWiB9F"
      }
    },
    {
      "cell_type": "code",
      "source": [
        "# Netflix Dataset Duplicate Value Count\n",
        "# Count the number of duplicate rows\n",
        "duplicate_rows = netflix_dataset[netflix_dataset.duplicated()]\n",
        "\n",
        "# Count the number of duplicate values\n",
        "num_of_duplicate_values = len(duplicate_rows)\n",
        "\n",
        "# Print the number of duplicate values\n",
        "print(\"Number of duplicate values is:\", num_of_duplicate_values)"
      ],
      "metadata": {
        "id": "1sLdpKYkmox0"
      },
      "execution_count": null,
      "outputs": []
    },
    {
      "cell_type": "markdown",
      "source": [
        "#### Missing Values/Null Values"
      ],
      "metadata": {
        "id": "PoPl-ycgm1ru"
      }
    },
    {
      "cell_type": "code",
      "source": [
        "# Missing Values/Null Values Count\n",
        "missing_values  = netflix_dataset.isnull().sum()\n",
        "\n",
        "# Print the missing values\n",
        "print(\"The number of missing values is:\", missing_values)"
      ],
      "metadata": {
        "id": "GgHWkxvamxVg"
      },
      "execution_count": null,
      "outputs": []
    },
    {
      "cell_type": "code",
      "source": [
        "# Visualizing the missing values\n",
        "# Create a bar plot to  visualize the missing values\n",
        "plt.figure(figsize=(10,6))\n",
        "sns.barplot(x=missing_values.index, y = missing_values.values)\n",
        "plt.xticks(rotation=45)\n",
        "plt.title(\"Missing Values in Netflix Dataset\")\n",
        "plt.xlabel(\"Columns\")\n",
        "plt.ylabel(\"Number of missing values\")\n",
        "plt.show()"
      ],
      "metadata": {
        "id": "3q5wnI3om9sJ"
      },
      "execution_count": null,
      "outputs": []
    },
    {
      "cell_type": "markdown",
      "source": [
        "### What did you know about your dataset?"
      ],
      "metadata": {
        "id": "H0kj-8xxnORC"
      }
    },
    {
      "cell_type": "markdown",
      "source": [
        "**Some things I know about the Netflix movies and TV shows dataset are:--**\n",
        "\n",
        "\n",
        "1. The dataset contains information about 10,000(approx) movies and TV shows that are available on Netflix.\n",
        "2. The dataset includes the following features:--\n",
        "*  Show ID\n",
        "*  Type (Movei or TV show)\n",
        "*  Title\n",
        "*  Director\n",
        "*  Cast\n",
        "*  Country\n",
        "*  Date added\n",
        "*  Release year\n",
        "*  Rating\n",
        "*  Duration\n",
        "*  Listed_in\n",
        "*  Description\n",
        "\n",
        "3. There are 7 missing values in the rating column.\n",
        "\n",
        "\n",
        "I learned these things by loading the dataset into a Pandas DataFrame and inspecting the data. I also used matplotlib to visualize the missing values in the dataset.\n",
        "\n",
        "\n",
        "\n",
        "\n",
        "\n"
      ],
      "metadata": {
        "id": "gfoNAAC-nUe_"
      }
    },
    {
      "cell_type": "markdown",
      "source": [
        "## ***2. Understanding Your Variables***"
      ],
      "metadata": {
        "id": "nA9Y7ga8ng1Z"
      }
    },
    {
      "cell_type": "code",
      "source": [
        "# Dataset Columns\n",
        "columns_name = netflix_dataset.columns\n",
        "\n",
        "# Print the dataset  information\n",
        "print(\"Column names:\\n\", columns_name)"
      ],
      "metadata": {
        "id": "j7xfkqrt5Ag5"
      },
      "execution_count": null,
      "outputs": []
    },
    {
      "cell_type": "code",
      "source": [
        "# Get the netflix dataset describe\n",
        "netflix_dataset.describe()"
      ],
      "metadata": {
        "id": "uYykf8_ysLS_"
      },
      "execution_count": null,
      "outputs": []
    },
    {
      "cell_type": "code",
      "source": [
        "# Overall discriprion of netflix dataset\n",
        "netflix_dataset.describe(include='all').transpose()\n"
      ],
      "metadata": {
        "id": "DnOaZdaE5Q5t"
      },
      "execution_count": null,
      "outputs": []
    },
    {
      "cell_type": "markdown",
      "source": [
        "### Variables Description"
      ],
      "metadata": {
        "id": "PBTbrJXOngz2"
      }
    },
    {
      "cell_type": "markdown",
      "source": [
        "### ***The description of the variables in the Netflix movies and TV shows clustering dataset:--***\n",
        "\n",
        "* **show_id:--** A unique identifier for each movie or TV show. It is an object value.\n",
        "* **type:--** This column indicates whether the movie or TV show is a movie or a TV show. It is an object value with two possible values: **\"movie\"** or **\"tv show\"**.\n",
        "* **title:--** This column is the title of the movie or TV show. It is an object value.\n",
        "* **director:--** This column is the director of the movie or TV show. It is an object value.\n",
        "* **cast:--** This column is the main actors in the movie or TV show. It is an object value.\n",
        "* **country:--** This column is the country where the movie or TV show was produced. It is an object value.\n",
        "* **date_added:--** This column is the date the movie or TV show was added to Netflix. It is an object value in the format YYYY-MM-DD.\n",
        "* **release_year:--** This column is the year the movie or TV show was released. It is an integer value.\n",
        "* **rating:--** This column is the rating of the movie or TV show on Netflix. It is an object value.\n",
        "* **duration:--** This column is the duration of the movie or TV show in minutes. It is an object value.\n",
        "* **listed_in:--** This column is the genres of the movie or TV show. It is an object value with multiple possible values, separated by commas.\n",
        "* **description:--** This column is the description of the movie or TV show. It is an object value.\n"
      ],
      "metadata": {
        "id": "aJV4KIxSnxay"
      }
    },
    {
      "cell_type": "markdown",
      "source": [
        "### Check Unique Values for each variable."
      ],
      "metadata": {
        "id": "u3PMJOP6ngxN"
      }
    },
    {
      "cell_type": "code",
      "source": [
        "#Unique values for each variable\n",
        "for i in netflix_dataset.columns.tolist():\n",
        "  print(f'Number of unique value in {i} is {netflix_dataset[i].nunique()}.')"
      ],
      "metadata": {
        "id": "AsYIGJq3vdAS"
      },
      "execution_count": null,
      "outputs": []
    },
    {
      "cell_type": "code",
      "source": [
        "# Check Unique Values for each variable.\n",
        "for column in netflix_dataset.columns:\n",
        "  print(\"Variables:\", column)\n",
        "  print(\"Unique Values:\", netflix_dataset[column].unique())"
      ],
      "metadata": {
        "id": "zms12Yq5n-jE"
      },
      "execution_count": null,
      "outputs": []
    },
    {
      "cell_type": "markdown",
      "source": [
        "## 3. ***Data Wrangling***"
      ],
      "metadata": {
        "id": "dauF4eBmngu3"
      }
    },
    {
      "cell_type": "markdown",
      "source": [
        "### Data Wrangling Code"
      ],
      "metadata": {
        "id": "bKJF3rekwFvQ"
      }
    },
    {
      "cell_type": "code",
      "source": [
        "netflix_dataset[['director','country']] = netflix_dataset[['director','country']].fillna('Unknown')\n",
        "netflix_dataset['cast'] = netflix_dataset['cast'].fillna('No Cast')\n",
        "netflix_dataset['rating'] = netflix_dataset['rating'].fillna(netflix_dataset['rating'].mode()[0])\n",
        "netflix_dataset.dropna(axis=0, inplace = True)"
      ],
      "metadata": {
        "id": "r0fcu69OIuUF"
      },
      "execution_count": null,
      "outputs": []
    },
    {
      "cell_type": "code",
      "source": [
        "#checking for missing values\n",
        "netflix_dataset.isnull().sum()"
      ],
      "metadata": {
        "id": "9K_HChzgJuAd"
      },
      "execution_count": null,
      "outputs": []
    },
    {
      "cell_type": "code",
      "source": [
        "# Typecasting 'date_added' from string to datetime\n",
        "netflix_dataset[\"date_added\"] = pd.to_datetime(netflix_dataset['date_added'])\n",
        "\n",
        "# Adding new attributes month and year of date added\n",
        "netflix_dataset['month_added'] = netflix_dataset['date_added'].dt.month\n",
        "netflix_dataset['year_added'] = netflix_dataset['date_added'].dt.year\n",
        "netflix_dataset.drop('date_added', axis=1, inplace=True)"
      ],
      "metadata": {
        "id": "7bgBzwopJ1BX"
      },
      "execution_count": null,
      "outputs": []
    },
    {
      "cell_type": "code",
      "source": [
        "##check for duplicates\n",
        "duplicates =len(netflix_dataset[netflix_dataset.duplicated()])\n",
        "print(duplicates)"
      ],
      "metadata": {
        "id": "UXaOLg0vKah7"
      },
      "execution_count": null,
      "outputs": []
    },
    {
      "cell_type": "markdown",
      "source": [
        "### What all manipulations have you done and insights you found?"
      ],
      "metadata": {
        "id": "MSa1f5Uengrz"
      }
    },
    {
      "cell_type": "markdown",
      "source": [
        "Answer Here."
      ],
      "metadata": {
        "id": "LbyXE7I1olp8"
      }
    },
    {
      "cell_type": "markdown",
      "source": [
        "## ***4. Data Vizualization, Storytelling & Experimenting with charts : Understand the relationships between variables***"
      ],
      "metadata": {
        "id": "GF8Ens_Soomf"
      }
    },
    {
      "cell_type": "markdown",
      "source": [
        "### ***Univariate Analysis***"
      ],
      "metadata": {
        "id": "9hcrDeoZN2-H"
      }
    },
    {
      "cell_type": "markdown",
      "source": [
        "#### Chart - 1 --- What is the distribution of release years in the dataset?"
      ],
      "metadata": {
        "id": "0wOQAZs5pc--"
      }
    },
    {
      "cell_type": "code",
      "source": [
        "# Chart - 1 visualization code\n",
        "\n",
        "# Plot the distribution of release years\n",
        "plt.figure(figsize=(10, 6))\n",
        "plt.hist(netflix_dataset['release_year'], bins=30, color='skyblue', edgecolor='black')\n",
        "plt.title('Distribution of Release Years in Netflix Dataset')\n",
        "plt.xlabel('Release Year')\n",
        "plt.ylabel('Frequency')\n",
        "plt.grid(True)\n",
        "plt.show()"
      ],
      "metadata": {
        "id": "7v_ESjsspbW7"
      },
      "execution_count": null,
      "outputs": []
    },
    {
      "cell_type": "markdown",
      "source": [
        "##### 1. Why did you pick the specific chart?"
      ],
      "metadata": {
        "id": "K5QZ13OEpz2H"
      }
    },
    {
      "cell_type": "markdown",
      "source": [
        "I chose a histogram chart because it's suitable for visualizing the distribution of discrete data, like release years. It helps identify trends, patterns, and frequencies in the distribution of years."
      ],
      "metadata": {
        "id": "XESiWehPqBRc"
      }
    },
    {
      "cell_type": "markdown",
      "source": [
        "##### 2. What is/are the insight(s) found from the chart?"
      ],
      "metadata": {
        "id": "lQ7QKXXCp7Bj"
      }
    },
    {
      "cell_type": "markdown",
      "source": [
        "Insights from the distribution of release years in the chart could include spotting content production trends, identifying historical patterns in popularity, observing shifts in content types, and gauging the growth and longevity of the platform."
      ],
      "metadata": {
        "id": "C_j1G7yiqdRP"
      }
    },
    {
      "cell_type": "markdown",
      "source": [
        "##### 3. Will the gained insights help creating a positive business impact?\n",
        "Are there any insights that lead to negative growth? Justify with specific reason."
      ],
      "metadata": {
        "id": "448CDAPjqfQr"
      }
    },
    {
      "cell_type": "markdown",
      "source": [
        " ***Positive Business Impact:---***\n",
        "Insights can positively impact content strategy, resource allocation, customer retention, and strategic partnerships.\n",
        "\n",
        "\n",
        " ***Negative Growth and Challenges:---***\n",
        "Discontinuing older content, overemphasizing trends, neglecting niche audiences, and ignoring platform growth could lead to negative outcomes like customer churn and missed opportunities.\n"
      ],
      "metadata": {
        "id": "3cspy4FjqxJW"
      }
    },
    {
      "cell_type": "markdown",
      "source": [
        "#### Chart - 2 --- What is the distribution of content addition dates(month_added, year_added) for movies and TV shows?"
      ],
      "metadata": {
        "id": "KSlN3yHqYklG"
      }
    },
    {
      "cell_type": "code",
      "source": [
        "# Chart - 2 visualization code\n",
        "# Filter data for movies and TV shows\n",
        "Movies = netflix_dataset[netflix_dataset['type'] == 'Movie']\n",
        "TV_Shows = netflix_dataset[netflix_dataset['type'] == 'TV Show']"
      ],
      "metadata": {
        "id": "R4YgtaqtYklH"
      },
      "execution_count": null,
      "outputs": []
    },
    {
      "cell_type": "code",
      "source": [
        "# Plot overlapping histograms for content addition dates(Month added)\n",
        "plt.figure(figsize=(10,6))\n",
        "plt.hist(Movies['month_added'], bins=30, color='blue', alpha=0.5,label='Movies', edgecolor='black')\n",
        "plt.hist(TV_Shows['month_added'], bins=30, color='red', alpha=0.5, label='TV Shows', edgecolor='black')\n",
        "plt.title('Distribution of Content Addition(Month) Dates for Movies and TV Shows')\n",
        "plt.xlabel('Month Added')\n",
        "plt.ylabel('Frequency')\n",
        "plt.legend()\n",
        "plt.grid(True)\n",
        "plt.show()"
      ],
      "metadata": {
        "id": "6TPzwKoBQDx-"
      },
      "execution_count": null,
      "outputs": []
    },
    {
      "cell_type": "code",
      "source": [
        "# Plot overlapping histograms for content addition dates(Year added)\n",
        "plt.figure(figsize=(10,6))\n",
        "plt.hist(Movies['year_added'], bins=30, color='green', alpha=0.5,label='Movies', edgecolor='black')\n",
        "plt.hist(TV_Shows['year_added'], bins=30, color='red', alpha=0.5, label='TV Shows', edgecolor='black')\n",
        "plt.title('Distribution of Content Addition(Year) Dates for Movies and TV Shows')\n",
        "plt.xlabel('Year Added')\n",
        "plt.ylabel('Frequency')\n",
        "plt.legend()\n",
        "plt.grid(True)\n",
        "plt.show()"
      ],
      "metadata": {
        "id": "Er_M5T-yRElF"
      },
      "execution_count": null,
      "outputs": []
    },
    {
      "cell_type": "markdown",
      "source": [
        "##### 1. Why did you pick the specific chart?"
      ],
      "metadata": {
        "id": "t6dVpIINYklI"
      }
    },
    {
      "cell_type": "markdown",
      "source": [
        "I chose overlapping histograms to compare the distribution of content addition dates for movies and TV shows because it allows us to visualize how the date distributions of the two types overlap, helping us understand any patterns or differences in their release over time."
      ],
      "metadata": {
        "id": "5aaW0BYyYklI"
      }
    },
    {
      "cell_type": "markdown",
      "source": [
        "##### 2. What is/are the insight(s) found from the chart?"
      ],
      "metadata": {
        "id": "ijmpgYnKYklI"
      }
    },
    {
      "cell_type": "markdown",
      "source": [
        "Insights from the chart could include identifying release patterns, observing a balanced addition of content types, understanding platform strategies, recognizing date disparities between content types, and evaluating content diversity throughout different timeframes."
      ],
      "metadata": {
        "id": "PSx9atu2YklI"
      }
    },
    {
      "cell_type": "markdown",
      "source": [
        "##### 3. Will the gained insights help creating a positive business impact?\n",
        "Are there any insights that lead to negative growth? Justify with specific reason."
      ],
      "metadata": {
        "id": "-JiQyfWJYklI"
      }
    },
    {
      "cell_type": "markdown",
      "source": [
        "***Positive Business Impact:---***\n",
        "Insights can lead to strategic content releases, balanced content library, catering to viewer preferences, and maintaining content diversity.\n",
        "\n",
        "\n",
        "***Negative Growth and Challenges:---***\n",
        "Date disparities and content imbalance could lead to viewer dissatisfaction, overemphasis on trends might cause short-lived popularity, and uniform content distribution might result in viewer month_added and year_added"
      ],
      "metadata": {
        "id": "BcBbebzrYklV"
      }
    },
    {
      "cell_type": "markdown",
      "source": [
        "#### Chart - 3 --- Is there a correlation between content duration and release year?"
      ],
      "metadata": {
        "id": "EM7whBJCYoAo"
      }
    },
    {
      "cell_type": "code",
      "source": [
        "# Chart - 3 visualization code\n",
        "\n",
        "\n",
        "# Create a line plot with multiple lines\n",
        "plt.figure(figsize=(10, 6))\n",
        "sns.lineplot(x='release_year', y='duration', hue='type', data=netflix_dataset)\n",
        "plt.title('Content Duration Trend by Release Year and Type')\n",
        "plt.xlabel('Release Year')\n",
        "plt.ylabel('Mean Content Duration')\n",
        "plt.grid(True)\n",
        "plt.show()"
      ],
      "metadata": {
        "id": "t6GMdE67YoAp"
      },
      "execution_count": null,
      "outputs": []
    },
    {
      "cell_type": "markdown",
      "source": [
        "##### 1. Why did you pick the specific chart?"
      ],
      "metadata": {
        "id": "fge-S5ZAYoAp"
      }
    },
    {
      "cell_type": "markdown",
      "source": [
        "\n",
        "I choose the line plot with multiple lines because it effectively shows the trend of content duration for both movie and TV show types over different release years. It allows for easy comparison and identification of patterns in duration changes for each type, making it suitable for visualizing the relationship between these variables.\n",
        "\n",
        "\n",
        "\n",
        "\n"
      ],
      "metadata": {
        "id": "5dBItgRVYoAp"
      }
    },
    {
      "cell_type": "markdown",
      "source": [
        "##### 2. What is/are the insight(s) found from the chart?"
      ],
      "metadata": {
        "id": "85gYPyotYoAp"
      }
    },
    {
      "cell_type": "markdown",
      "source": [
        "Insights might include consistency or divergence in content duration trends, changing viewer preferences, potential platform strategies, the influence of release year, and stability in content production approaches."
      ],
      "metadata": {
        "id": "4jstXR6OYoAp"
      }
    },
    {
      "cell_type": "markdown",
      "source": [
        "##### 3. Will the gained insights help creating a positive business impact?\n",
        "Are there any insights that lead to negative growth? Justify with specific reason."
      ],
      "metadata": {
        "id": "RoGjAbkUYoAp"
      }
    },
    {
      "cell_type": "markdown",
      "source": [
        "***Positive Business Impact:---***\n",
        "Insights can inform strategy, optimize planning, enhance content diversity, and improve retention strategies.\n",
        "\n",
        "***Negative Growth and Challenges:--***\n",
        "Diverging content strategies may lead to audience fragmentation, ignoring trends could result in churn, resource imbalance might occur, and short-term focus may affect long-term engagement."
      ],
      "metadata": {
        "id": "zfJ8IqMcYoAp"
      }
    },
    {
      "cell_type": "markdown",
      "source": [
        "#### Chart - 4 --- How does the average content duration vary across different ratings?"
      ],
      "metadata": {
        "id": "4Of9eVA-YrdM"
      }
    },
    {
      "cell_type": "code",
      "source": [
        "# Chart - 4 visualization code\n",
        "# Convert content duration to numerical values (in minutes)\n",
        "netflix_dataset['duration'] = netflix_dataset['duration'].str.extract('(\\d+)').astype(float)\n",
        "\n",
        "# Group data by rating and calculate the mean duration\n",
        "grouped_data = netflix_dataset.groupby('rating')['duration'].mean().reset_index()\n",
        "\n",
        "# Sort ratings based on average duration\n",
        "grouped_data = grouped_data.sort_values(by='duration', ascending=False)\n",
        "\n",
        "# Create a bar plot\n",
        "plt.figure(figsize=(10, 6))\n",
        "plt.bar(grouped_data['rating'], grouped_data['duration'], color='skyblue')\n",
        "plt.title('Average Content Duration Across Different Ratings')\n",
        "plt.xlabel('Rating')\n",
        "plt.ylabel('Average Content Duration (minutes)')\n",
        "plt.xticks(rotation=45)\n",
        "plt.grid(True)\n",
        "plt.show()"
      ],
      "metadata": {
        "id": "irlUoxc8YrdO"
      },
      "execution_count": null,
      "outputs": []
    },
    {
      "cell_type": "markdown",
      "source": [
        "##### 1. Why did you pick the specific chart?"
      ],
      "metadata": {
        "id": "iky9q4vBYrdO"
      }
    },
    {
      "cell_type": "markdown",
      "source": [
        "\n",
        "I chose a bar plot because it effectively compares the average content duration across different ratings, making it easy to identify variations and trends."
      ],
      "metadata": {
        "id": "aJRCwT6DYrdO"
      }
    },
    {
      "cell_type": "markdown",
      "source": [
        "##### 2. What is/are the insight(s) found from the chart?"
      ],
      "metadata": {
        "id": "F6T5p64dYrdO"
      }
    },
    {
      "cell_type": "markdown",
      "source": [
        "\n",
        "Insights from the chart might include understanding how content duration varies across different ratings, identifying whether certain content ratings tend to have longer or shorter durations, and helping Netflix tailor its content production strategies based on viewer preferences."
      ],
      "metadata": {
        "id": "Xx8WAJvtYrdO"
      }
    },
    {
      "cell_type": "markdown",
      "source": [
        "##### 3. Will the gained insights help creating a positive business impact?\n",
        "Are there any insights that lead to negative growth? Justify with specific reason."
      ],
      "metadata": {
        "id": "y-Ehk30pYrdP"
      }
    },
    {
      "cell_type": "markdown",
      "source": [
        "***Positive Business Impact:---***\n",
        "Insights can help optimize content production strategies, aligning content duration with viewer preferences for improved engagement and satisfaction.\n",
        "\n",
        "***Negative Growth and Challenges:---***\n",
        "Extreme variations in content duration might lead to viewer dissatisfaction, impacting engagement and potentially causing churn, especially if content durations do not match viewers' expectations for specific ratings."
      ],
      "metadata": {
        "id": "jLNxxz7MYrdP"
      }
    },
    {
      "cell_type": "markdown",
      "source": [
        "#### Chart - 5 --- What is the average content duration for different listed_in?"
      ],
      "metadata": {
        "id": "bamQiAODYuh1"
      }
    },
    {
      "cell_type": "code",
      "source": [
        "# Chart - 5 visualization code\n",
        "# Sort by average duration in descending order and get the top 10 categories\n",
        "top_10_categories = grouped_data.nlargest(10, 'duration')\n",
        "\n",
        "# Create a bar plot for the top 10 categories\n",
        "plt.figure(figsize=(10, 6))\n",
        "plt.bar(top_10_categories['listed_in'], top_10_categories['duration'], color='skyblue')\n",
        "plt.title('Top 10 Categories by Average Content Duration')\n",
        "plt.xlabel('Category')\n",
        "plt.ylabel('Average Content Duration (minutes)')\n",
        "plt.xticks(rotation=45)\n",
        "plt.grid(True)\n",
        "plt.show()"
      ],
      "metadata": {
        "id": "TIJwrbroYuh3"
      },
      "execution_count": null,
      "outputs": []
    },
    {
      "cell_type": "markdown",
      "source": [
        "##### 1. Why did you pick the specific chart?"
      ],
      "metadata": {
        "id": "QHF8YVU7Yuh3"
      }
    },
    {
      "cell_type": "markdown",
      "source": [
        "I chose a violin plot because it effectively shows the distribution of content durations within different categories, helping to identify the range and spread of durations for each category. It provides insights into the diversity of content duration within each category."
      ],
      "metadata": {
        "id": "dcxuIMRPYuh3"
      }
    },
    {
      "cell_type": "markdown",
      "source": [
        "##### 2. What is/are the insight(s) found from the chart?"
      ],
      "metadata": {
        "id": "GwzvFGzlYuh3"
      }
    },
    {
      "cell_type": "markdown",
      "source": [
        "\n",
        "Insights from the chart might include understanding the range and distribution of content durations across different categories, identifying potential outliers or variations in specific categories, and recognizing patterns of content duration diversity within the 'listed_in' categories."
      ],
      "metadata": {
        "id": "uyqkiB8YYuh3"
      }
    },
    {
      "cell_type": "markdown",
      "source": [
        "##### 3. Will the gained insights help creating a positive business impact?\n",
        "Are there any insights that lead to negative growth? Justify with specific reason."
      ],
      "metadata": {
        "id": "qYpmQ266Yuh3"
      }
    },
    {
      "cell_type": "markdown",
      "source": [
        "***Positive Business Impact:---***\n",
        "Insights can lead to strategic content planning, optimizing content duration for categories that attract more viewers, enhancing user engagement, and improving user satisfaction.\n",
        "\n",
        "***Negative Growth and Challenges:---***\n",
        "Extreme variations in content duration across categories might lead to viewer dissatisfaction, as inconsistent durations within a category could fail to meet viewer expectations."
      ],
      "metadata": {
        "id": "_WtzZ_hCYuh4"
      }
    },
    {
      "cell_type": "markdown",
      "source": [],
      "metadata": {
        "id": "sAuDF-aaeXjS"
      }
    },
    {
      "cell_type": "markdown",
      "source": [
        "### ***Bivariate Analysis (Numerical - Categorical)***"
      ],
      "metadata": {
        "id": "1xQS8BUFedNp"
      }
    },
    {
      "cell_type": "markdown",
      "source": [
        "#### Chart - 6 ---  How does the average duration vary between movies and TV shows?"
      ],
      "metadata": {
        "id": "OH-pJp9IphqM"
      }
    },
    {
      "cell_type": "code",
      "source": [
        "# Chart - 6 visualization code\n",
        "# Group data by 'type' and calculate the mean duration\n",
        "grouped_data = netflix_dataset.groupby('type')['duration'].mean().reset_index()\n",
        "\n",
        "# Create a bar plot\n",
        "plt.figure(figsize=(6, 4))\n",
        "plt.bar(grouped_data['type'], grouped_data['duration'], color='orange')\n",
        "plt.title('Average Content Duration: Movies vs TV Shows')\n",
        "plt.xlabel('Content Type')\n",
        "plt.ylabel('Average Content Duration (minutes)')\n",
        "plt.xticks(rotation=0)\n",
        "plt.grid(True)\n",
        "plt.show()"
      ],
      "metadata": {
        "id": "kuRf4wtuphqN"
      },
      "execution_count": null,
      "outputs": []
    },
    {
      "cell_type": "markdown",
      "source": [
        "##### 1. Why did you pick the specific chart?"
      ],
      "metadata": {
        "id": "bbFf2-_FphqN"
      }
    },
    {
      "cell_type": "markdown",
      "source": [
        "I chose a bar plot because it effectively compares the average content duration between movies and TV shows, allowing for a clear visual comparison of the durations for each content type."
      ],
      "metadata": {
        "id": "loh7H2nzphqN"
      }
    },
    {
      "cell_type": "markdown",
      "source": [
        "##### 2. What is/are the insight(s) found from the chart?"
      ],
      "metadata": {
        "id": "_ouA3fa0phqN"
      }
    },
    {
      "cell_type": "markdown",
      "source": [
        "Insights might include understanding whether movies or TV shows tend to have longer content durations on average and whether there are significant differences in duration between the two types. This information can guide content production decisions based on viewer preferences and expectations."
      ],
      "metadata": {
        "id": "VECbqPI7phqN"
      }
    },
    {
      "cell_type": "markdown",
      "source": [
        "##### 3. Will the gained insights help creating a positive business impact?\n",
        "Are there any insights that lead to negative growth? Justify with specific reason."
      ],
      "metadata": {
        "id": "Seke61FWphqN"
      }
    },
    {
      "cell_type": "markdown",
      "source": [
        "***Positive Business Impact:---***\n",
        "Insights can guide content strategy, aligning content duration with viewer preferences for each type, potentially increasing viewer engagement and satisfaction.\n",
        "\n",
        "***Negative Growth and Challenges:---***\n",
        "If content durations for movies or TV shows significantly deviate from viewer expectations, it might lead to dissatisfaction as viewers might be disappointed with content that is shorter or longer than what they anticipate."
      ],
      "metadata": {
        "id": "DW4_bGpfphqN"
      }
    },
    {
      "cell_type": "markdown",
      "source": [
        "#### Chart - 7 --- What is the distribution of content addition dates for movies and TV shows?"
      ],
      "metadata": {
        "id": "PIIx-8_IphqN"
      }
    },
    {
      "cell_type": "code",
      "source": [
        "# Chart - 7 visualization code\n",
        "# Convert 'date_added' column to datetime\n",
        "netflix_dataset['month_added'] = pd.to_datetime(netflix_dataset['month_added'])\n",
        "\n",
        "# Separate data for movies and TV shows\n",
        "movies_data = netflix_dataset[netflix_dataset['type'] == 'Movie']\n",
        "tv_shows_data = netflix_dataset[netflix_dataset['type'] == 'TV Show']\n",
        "\n",
        "# Create KDE plots\n",
        "plt.figure(figsize=(12, 6))\n",
        "\n",
        "# KDE plot for movie addition dates\n",
        "sns.kdeplot(movies_data['month_added'], label='Movies')\n",
        "\n",
        "# KDE plot for TV show addition dates\n",
        "sns.kdeplot(tv_shows_data['month_added'], label='TV Shows')\n",
        "\n",
        "plt.title('Distribution of Content Addition Dates for Movies and TV Shows')\n",
        "plt.xlabel('Month Added')\n",
        "plt.ylabel('Density')\n",
        "plt.legend()\n",
        "plt.grid(True)\n",
        "plt.show()"
      ],
      "metadata": {
        "id": "lqAIGUfyphqO"
      },
      "execution_count": null,
      "outputs": []
    },
    {
      "cell_type": "code",
      "source": [
        "# Convert 'date_added' column to datetime\n",
        "netflix_dataset['year_added'] = pd.to_datetime(netflix_dataset['year_added'])\n",
        "\n",
        "# Separate data for movies and TV shows\n",
        "movies_data = netflix_dataset[netflix_dataset['type'] == 'Movie']\n",
        "tv_shows_data = netflix_dataset[netflix_dataset['type'] == 'TV Show']\n",
        "\n",
        "# Create KDE plots\n",
        "plt.figure(figsize=(12, 6))\n",
        "\n",
        "# KDE plot for movie addition dates\n",
        "sns.kdeplot(movies_data['year_added'], label='Movies')\n",
        "\n",
        "# KDE plot for TV show addition dates\n",
        "sns.kdeplot(tv_shows_data['year_added'], label='TV Shows')\n",
        "\n",
        "plt.title('Distribution of Content Addition Dates for Movies and TV Shows')\n",
        "plt.xlabel('Year Added')\n",
        "plt.ylabel('Density')\n",
        "plt.legend()\n",
        "plt.grid(True)\n",
        "plt.show()"
      ],
      "metadata": {
        "id": "rw-_uhC4gsjn"
      },
      "execution_count": null,
      "outputs": []
    },
    {
      "cell_type": "markdown",
      "source": [
        "##### 1. Why did you pick the specific chart?"
      ],
      "metadata": {
        "id": "t27r6nlMphqO"
      }
    },
    {
      "cell_type": "markdown",
      "source": [
        "I chose KDE (Kernel Density Estimation) plots to visualize the distribution of content addition dates for movies and TV shows because they provide a smooth representation of data density, allowing us to observe the patterns and variations in the distribution over time."
      ],
      "metadata": {
        "id": "iv6ro40sphqO"
      }
    },
    {
      "cell_type": "markdown",
      "source": [
        "##### 2. What is/are the insight(s) found from the chart?"
      ],
      "metadata": {
        "id": "r2jJGEOYphqO"
      }
    },
    {
      "cell_type": "markdown",
      "source": [
        "\n",
        "Insights might include identifying the months or years when content addition is more frequent for movies and TV shows, potentially indicating patterns of content release or acquisition by Netflix."
      ],
      "metadata": {
        "id": "Po6ZPi4hphqO"
      }
    },
    {
      "cell_type": "markdown",
      "source": [
        "##### 3. Will the gained insights help creating a positive business impact?\n",
        "Are there any insights that lead to negative growth? Justify with specific reason."
      ],
      "metadata": {
        "id": "b0JNsNcRphqO"
      }
    },
    {
      "cell_type": "markdown",
      "source": [
        "***Positive Business Impact:---***\n",
        "Insights can guide content release schedules, ensuring strategic timing for content additions to match viewer preferences and optimize engagement.\n",
        "\n",
        "***Negative Growth and Challenges:---***\n",
        "If the distribution shows irregular or sparse content addition, it might lead to viewer dissatisfaction due to inconsistent updates. This could potentially result in reduced engagement or even churn."
      ],
      "metadata": {
        "id": "xvSq8iUTphqO"
      }
    },
    {
      "cell_type": "markdown",
      "source": [
        "#### Chart - 8 --- Is there a correlation between content duration and release year?"
      ],
      "metadata": {
        "id": "BZR9WyysphqO"
      }
    },
    {
      "cell_type": "code",
      "source": [
        "# Chart - 8 visualization code\n",
        "# Create a scatter plot\n",
        "plt.figure(figsize=(10, 6))\n",
        "sns.scatterplot(x='release_year', y='duration', data=netflix_dataset, alpha=0.5)\n",
        "plt.title('Content Duration vs Release Year')\n",
        "plt.xlabel('Release Year')\n",
        "plt.ylabel('Content Duration (minutes)')\n",
        "plt.grid(True)\n",
        "plt.show()"
      ],
      "metadata": {
        "id": "TdPTWpAVphqO"
      },
      "execution_count": null,
      "outputs": []
    },
    {
      "cell_type": "markdown",
      "source": [
        "##### 1. Why did you pick the specific chart?"
      ],
      "metadata": {
        "id": "jj7wYXLtphqO"
      }
    },
    {
      "cell_type": "markdown",
      "source": [
        "I chose a scatter plot because it effectively displays the relationship between two numerical variables, in this case, content duration and release year. It allows for visualizing potential trends, patterns, and variations between these two variables."
      ],
      "metadata": {
        "id": "Ob8u6rCTphqO"
      }
    },
    {
      "cell_type": "markdown",
      "source": [
        "##### 2. What is/are the insight(s) found from the chart?"
      ],
      "metadata": {
        "id": "eZrbJ2SmphqO"
      }
    },
    {
      "cell_type": "markdown",
      "source": [
        "\n",
        "Insights might include identifying trends or patterns in content duration over different release years, potentially indicating changes in content production preferences or strategies over time."
      ],
      "metadata": {
        "id": "mZtgC_hjphqO"
      }
    },
    {
      "cell_type": "markdown",
      "source": [
        "##### 3. Will the gained insights help creating a positive business impact?\n",
        "Are there any insights that lead to negative growth? Justify with specific reason."
      ],
      "metadata": {
        "id": "rFu4xreNphqO"
      }
    },
    {
      "cell_type": "markdown",
      "source": [
        "***Positive Business Impact:---***\n",
        "Insights can guide content planning and production, aligning content duration with viewer preferences over different release years, potentially enhancing viewer engagement and satisfaction.\n",
        "\n",
        "***Negative Growth and Challenges:---***\n",
        "If the scatter plot shows a negative trend or irregular distribution, it might indicate viewer dissatisfaction with content duration over time, potentially leading to reduced engagement and viewer churn."
      ],
      "metadata": {
        "id": "ey_0qi68phqO"
      }
    },
    {
      "cell_type": "markdown",
      "source": [
        "#### Chart - 9 ---  How does the average content duration vary across different ratings?"
      ],
      "metadata": {
        "id": "YJ55k-q6phqO"
      }
    },
    {
      "cell_type": "code",
      "source": [
        "# Chart - 9 visualization code\n",
        "# Group data by 'rating' and calculate the mean duration\n",
        "grouped_data = netflix_dataset.groupby('rating')['duration'].mean().reset_index()\n",
        "\n",
        "# Create a bar plot\n",
        "plt.figure(figsize=(12, 6))\n",
        "sns.barplot(x='rating', y='duration', data=grouped_data, palette='pastel')\n",
        "plt.title('Average Content Duration Across Different Ratings')\n",
        "plt.xlabel('Rating')\n",
        "plt.ylabel('Average Content Duration (minutes)')\n",
        "plt.xticks(rotation=45)\n",
        "plt.grid(True)\n",
        "plt.show()"
      ],
      "metadata": {
        "id": "B2aS4O1ophqO"
      },
      "execution_count": null,
      "outputs": []
    },
    {
      "cell_type": "markdown",
      "source": [
        "##### 1. Why did you pick the specific chart?"
      ],
      "metadata": {
        "id": "gCFgpxoyphqP"
      }
    },
    {
      "cell_type": "markdown",
      "source": [
        "I chose a bar plot because it effectively displays the average content duration for different ratings, allowing for easy comparison and identification of differences in content duration across rating categories."
      ],
      "metadata": {
        "id": "TVxDimi2phqP"
      }
    },
    {
      "cell_type": "markdown",
      "source": [
        "##### 2. What is/are the insight(s) found from the chart?"
      ],
      "metadata": {
        "id": "OVtJsKN_phqQ"
      }
    },
    {
      "cell_type": "markdown",
      "source": [
        "Insights might include identifying whether content duration varies significantly across different ratings, potentially indicating content strategy preferences based on viewer rating or duration."
      ],
      "metadata": {
        "id": "ngGi97qjphqQ"
      }
    },
    {
      "cell_type": "markdown",
      "source": [
        "##### 3. Will the gained insights help creating a positive business impact?\n",
        "Are there any insights that lead to negative growth? Justify with specific reason."
      ],
      "metadata": {
        "id": "lssrdh5qphqQ"
      }
    },
    {
      "cell_type": "markdown",
      "source": [
        "***Positive Business Impact:---***\n",
        "Insights can aid in tailoring content duration to align with viewer preferences for specific rating categories, enhancing engagement and viewer satisfaction.\n",
        "\n",
        "***Negative Growth and Challenges:---***\n",
        "If certain rating categories consistently have content durations significantly deviating from viewer expectations, it might lead to viewer dissatisfaction and potential churn, especially if content duration doesn't match the content's intended target audience or genre."
      ],
      "metadata": {
        "id": "tBpY5ekJphqQ"
      }
    },
    {
      "cell_type": "markdown",
      "source": [
        "#### Chart - 10 --- What is the average content duration for different listed_in?\n"
      ],
      "metadata": {
        "id": "U2RJ9gkRphqQ"
      }
    },
    {
      "cell_type": "code",
      "source": [
        "# Chart - 10 visualization code\n",
        "# Group data by 'listed_in' and calculate the mean duration\n",
        "grouped_data = netflix_dataset.groupby('listed_in')['duration'].mean().reset_index()\n",
        "\n",
        "# Sort data by average duration\n",
        "grouped_data = grouped_data.sort_values(by='duration', ascending=False)\n",
        "\n",
        "# Select the top 10 categories\n",
        "top_10_categories = grouped_data.head(10)\n",
        "\n",
        "# Create a bar plot\n",
        "plt.figure(figsize=(12, 6))\n",
        "sns.barplot(x='duration', y='listed_in', data=top_10_categories, palette='pastel')\n",
        "plt.title('Top 10 Categories with Highest Average Content Duration')\n",
        "plt.xlabel('Average Content Duration (minutes)')\n",
        "plt.ylabel('Categories')\n",
        "plt.grid(True)\n",
        "plt.show()"
      ],
      "metadata": {
        "id": "GM7a4YP4phqQ"
      },
      "execution_count": null,
      "outputs": []
    },
    {
      "cell_type": "markdown",
      "source": [
        "##### 1. Why did you pick the specific chart?"
      ],
      "metadata": {
        "id": "1M8mcRywphqQ"
      }
    },
    {
      "cell_type": "markdown",
      "source": [
        "I chose a bar plot because it effectively displays and compares the average content duration of the top 10 categories, allowing for easy identification of categories with the highest content duration."
      ],
      "metadata": {
        "id": "8agQvks0phqQ"
      }
    },
    {
      "cell_type": "markdown",
      "source": [
        "##### 2. What is/are the insight(s) found from the chart?"
      ],
      "metadata": {
        "id": "tgIPom80phqQ"
      }
    },
    {
      "cell_type": "markdown",
      "source": [
        "Insight may include identifying categories that tend to have longer average content duration, potentially reflecting specific content genres or types that prioritize longer storytelling or engagement."
      ],
      "metadata": {
        "id": "Qp13pnNzphqQ"
      }
    },
    {
      "cell_type": "markdown",
      "source": [
        "##### 3. Will the gained insights help creating a positive business impact?\n",
        "Are there any insights that lead to negative growth? Justify with specific reason."
      ],
      "metadata": {
        "id": "JMzcOPDDphqR"
      }
    },
    {
      "cell_type": "markdown",
      "source": [
        "***Positive Business Impact:---***\n",
        "Insights can guide content strategy by tailoring content duration to align with viewer preferences in specific categories, enhancing viewer engagement and satisfaction.\n",
        "\n",
        "***Negative Growth and Challenges:---***\n",
        "If certain categories consistently have significantly longer content duration without corresponding viewer engagement, it might lead to viewer fatigue or boredom, potentially resulting in reduced viewer retention and negative impact on business."
      ],
      "metadata": {
        "id": "R4Ka1PC2phqR"
      }
    },
    {
      "cell_type": "markdown",
      "source": [
        "### ***Bivariate Analysis (Numerical - Numerical)***"
      ],
      "metadata": {
        "id": "XoVUoH7xry_s"
      }
    },
    {
      "cell_type": "markdown",
      "source": [
        "#### Chart - 11 ---  Is there a relationship between the release year and content duration?"
      ],
      "metadata": {
        "id": "x-EpHcCOp1ci"
      }
    },
    {
      "cell_type": "code",
      "source": [
        "# Chart - 11 visualization code\n",
        "plt.figure(figsize=(10, 6))\n",
        "sns.regplot(x='release_year', y='duration', data=netflix_dataset, scatter_kws={'alpha':0.5})\n",
        "plt.title('Content Duration vs Release Year with Regression Line')\n",
        "plt.xlabel('Release Year')\n",
        "plt.ylabel('Content Duration (minutes)')\n",
        "plt.grid(True)\n",
        "plt.show()"
      ],
      "metadata": {
        "id": "mAQTIvtqp1cj"
      },
      "execution_count": null,
      "outputs": []
    },
    {
      "cell_type": "markdown",
      "source": [
        "##### 1. Why did you pick the specific chart?"
      ],
      "metadata": {
        "id": "X_VqEhTip1ck"
      }
    },
    {
      "cell_type": "markdown",
      "source": [
        "I chose a scatter plot because it effectively displays the individual data points, allowing for observation of the distribution and any potential patterns or trends between content duration and release year."
      ],
      "metadata": {
        "id": "-vsMzt_np1ck"
      }
    },
    {
      "cell_type": "markdown",
      "source": [
        "##### 2. What is/are the insight(s) found from the chart?"
      ],
      "metadata": {
        "id": "8zGJKyg5p1ck"
      }
    },
    {
      "cell_type": "markdown",
      "source": [
        "Insights might include identifying whether there is a clear trend or pattern between content duration and release year, potentially indicating changes in content production strategies or viewer preferences over time.\n",
        "\n",
        "\n",
        "\n",
        "\n"
      ],
      "metadata": {
        "id": "ZYdMsrqVp1ck"
      }
    },
    {
      "cell_type": "markdown",
      "source": [
        "##### 3. Will the gained insights help creating a positive business impact?\n",
        "Are there any insights that lead to negative growth? Justify with specific reason."
      ],
      "metadata": {
        "id": "PVzmfK_Ep1ck"
      }
    },
    {
      "cell_type": "markdown",
      "source": [
        "***Positive Business Impact:--***\n",
        "Insights can guide content planning by understanding how content duration preferences have evolved over the years. This can help tailor content strategies to match viewer preferences and optimize engagement.\n",
        "\n",
        "***Negative Growth and Challenges:--***\n",
        "If the insights show a decline in content duration while viewer engagement remains high, it might indicate a shift towards shorter-form content. However, if viewer engagement drops with shorter content, it could lead to negative impact due to reduced viewer satisfaction and retention."
      ],
      "metadata": {
        "id": "druuKYZpp1ck"
      }
    },
    {
      "cell_type": "markdown",
      "source": [
        "#### Chart - 12 ---  How does the release year correlate with the number of content items?"
      ],
      "metadata": {
        "id": "n3dbpmDWp1ck"
      }
    },
    {
      "cell_type": "code",
      "source": [
        "# Chart - 12 visualization code\n",
        "# Calculate the number of content items (movies and TV shows) per release year\n",
        "content_count_by_year = netflix_dataset.groupby('release_year')['show_id'].count().reset_index()\n",
        "\n",
        "# Create a line plot\n",
        "plt.figure(figsize=(12, 6))\n",
        "sns.lineplot(x='release_year', y='show_id', data=content_count_by_year)\n",
        "plt.title('Number of Content Items vs Release Year')\n",
        "plt.xlabel('Release Year')\n",
        "plt.ylabel('Number of Content Items')\n",
        "plt.grid(True)\n",
        "plt.show()"
      ],
      "metadata": {
        "id": "XCEcyFTwwbHx"
      },
      "execution_count": null,
      "outputs": []
    },
    {
      "cell_type": "markdown",
      "source": [
        "##### 1. Why did you pick the specific chart?"
      ],
      "metadata": {
        "id": "ylSl6qgtp1ck"
      }
    },
    {
      "cell_type": "markdown",
      "source": [
        "I chose the line plot because it effectively shows the trend and relationship between two continuous variables (release year and number of content items) over a continuous range. It helps in visualizing how the number of content items has changed over different release years in a clear and straightforward manner."
      ],
      "metadata": {
        "id": "m2xqNkiQp1ck"
      }
    },
    {
      "cell_type": "markdown",
      "source": [
        "##### 2. What is/are the insight(s) found from the chart?"
      ],
      "metadata": {
        "id": "ZWILFDl5p1ck"
      }
    },
    {
      "cell_type": "markdown",
      "source": [
        "The line plot shows that the number of content items (movies and TV shows) has generally increased over the years. There was a significant growth in the number of content items around the mid-2010s, suggesting an expansion of Netflix's content library during that period."
      ],
      "metadata": {
        "id": "x-lUsV2mp1ck"
      }
    },
    {
      "cell_type": "markdown",
      "source": [
        "##### 3. Will the gained insights help creating a positive business impact?\n",
        "Are there any insights that lead to negative growth? Justify with specific reason."
      ],
      "metadata": {
        "id": "M7G43BXep1ck"
      }
    },
    {
      "cell_type": "markdown",
      "source": [
        "The insight of a growing number of content items over the years can positively impact the business by attracting and retaining subscribers. However, there is no indication of negative growth in this analysis, which is reassuring for business stability."
      ],
      "metadata": {
        "id": "5wwDJXsLp1cl"
      }
    },
    {
      "cell_type": "markdown",
      "source": [
        "#### Chart - 13 --- Is there a correlation between content duration and the year it was added?"
      ],
      "metadata": {
        "id": "Ag9LCva-p1cl"
      }
    },
    {
      "cell_type": "code",
      "source": [
        "# Chart - 13 visualization code\n",
        "# Create a scatter plot\n",
        "plt.figure(figsize=(12, 6))\n",
        "sns.scatterplot(x='year_added', y='duration', data=netflix_dataset, alpha=0.5)\n",
        "plt.title('Content Duration vs Year Added')\n",
        "plt.xlabel('Year Added')\n",
        "plt.ylabel('Content Duration (minutes)')\n",
        "plt.grid(True)\n",
        "plt.show()"
      ],
      "metadata": {
        "id": "EUfxeq9-p1cl"
      },
      "execution_count": null,
      "outputs": []
    },
    {
      "cell_type": "markdown",
      "source": [
        "##### 1. Why did you pick the specific chart?"
      ],
      "metadata": {
        "id": "E6MkPsBcp1cl"
      }
    },
    {
      "cell_type": "markdown",
      "source": [
        "I chose the scatter plot because it effectively visualizes the relationship between two continuous variables (content duration and year added). It helps in identifying patterns or trends, if any, in how content duration has changed over different years of addition."
      ],
      "metadata": {
        "id": "V22bRsFWp1cl"
      }
    },
    {
      "cell_type": "markdown",
      "source": [
        "##### 2. What is/are the insight(s) found from the chart?"
      ],
      "metadata": {
        "id": "2cELzS2fp1cl"
      }
    },
    {
      "cell_type": "markdown",
      "source": [
        "The scatter plot does not indicate a clear and consistent pattern or trend between content duration and the year it was added. Content durations appear to be spread across different years, suggesting no significant correlation between these two variables."
      ],
      "metadata": {
        "id": "ozQPc2_Ip1cl"
      }
    },
    {
      "cell_type": "markdown",
      "source": [
        "##### 3. Will the gained insights help creating a positive business impact?\n",
        "Are there any insights that lead to negative growth? Justify with specific reason."
      ],
      "metadata": {
        "id": "3MPXvC8up1cl"
      }
    },
    {
      "cell_type": "markdown",
      "source": [
        "Answer Here"
      ],
      "metadata": {
        "id": "GL8l1tdLp1cl"
      }
    },
    {
      "cell_type": "markdown",
      "source": [
        "#### Chart - 14 - Correlation Heatmap"
      ],
      "metadata": {
        "id": "NC_X3p0fY2L0"
      }
    },
    {
      "cell_type": "code",
      "source": [
        "# Correlation Heatmap visualization code"
      ],
      "metadata": {
        "id": "xyC9zolEZNRQ"
      },
      "execution_count": null,
      "outputs": []
    },
    {
      "cell_type": "markdown",
      "source": [
        "##### 1. Why did you pick the specific chart?"
      ],
      "metadata": {
        "id": "UV0SzAkaZNRQ"
      }
    },
    {
      "cell_type": "markdown",
      "source": [
        "Answer Here."
      ],
      "metadata": {
        "id": "DVPuT8LYZNRQ"
      }
    },
    {
      "cell_type": "markdown",
      "source": [
        "##### 2. What is/are the insight(s) found from the chart?"
      ],
      "metadata": {
        "id": "YPEH6qLeZNRQ"
      }
    },
    {
      "cell_type": "markdown",
      "source": [
        "Answer Here"
      ],
      "metadata": {
        "id": "bfSqtnDqZNRR"
      }
    },
    {
      "cell_type": "markdown",
      "source": [
        "#### Chart - 15 - Pair Plot"
      ],
      "metadata": {
        "id": "q29F0dvdveiT"
      }
    },
    {
      "cell_type": "code",
      "source": [
        "# Pair Plot visualization code"
      ],
      "metadata": {
        "id": "o58-TEIhveiU"
      },
      "execution_count": null,
      "outputs": []
    },
    {
      "cell_type": "markdown",
      "source": [
        "##### 1. Why did you pick the specific chart?"
      ],
      "metadata": {
        "id": "EXh0U9oCveiU"
      }
    },
    {
      "cell_type": "markdown",
      "source": [
        "Answer Here."
      ],
      "metadata": {
        "id": "eMmPjTByveiU"
      }
    },
    {
      "cell_type": "markdown",
      "source": [
        "##### 2. What is/are the insight(s) found from the chart?"
      ],
      "metadata": {
        "id": "22aHeOlLveiV"
      }
    },
    {
      "cell_type": "markdown",
      "source": [
        "Answer Here"
      ],
      "metadata": {
        "id": "uPQ8RGwHveiV"
      }
    },
    {
      "cell_type": "markdown",
      "source": [
        "## ***5. Hypothesis Testing***"
      ],
      "metadata": {
        "id": "g-ATYxFrGrvw"
      }
    },
    {
      "cell_type": "markdown",
      "source": [
        "### Based on your chart experiments, define three hypothetical statements from the dataset. In the next three questions, perform hypothesis testing to obtain final conclusion about the statements through your code and statistical testing."
      ],
      "metadata": {
        "id": "Yfr_Vlr8HBkt"
      }
    },
    {
      "cell_type": "markdown",
      "source": [
        "Answer Here."
      ],
      "metadata": {
        "id": "-7MS06SUHkB-"
      }
    },
    {
      "cell_type": "markdown",
      "source": [
        "### Hypothetical Statement - 1"
      ],
      "metadata": {
        "id": "8yEUt7NnHlrM"
      }
    },
    {
      "cell_type": "markdown",
      "source": [
        "#### 1. State Your research hypothesis as a null hypothesis and alternate hypothesis."
      ],
      "metadata": {
        "id": "tEA2Xm5dHt1r"
      }
    },
    {
      "cell_type": "markdown",
      "source": [
        "Answer Here."
      ],
      "metadata": {
        "id": "HI9ZP0laH0D-"
      }
    },
    {
      "cell_type": "markdown",
      "source": [
        "#### 2. Perform an appropriate statistical test."
      ],
      "metadata": {
        "id": "I79__PHVH19G"
      }
    },
    {
      "cell_type": "code",
      "source": [
        "# Perform Statistical Test to obtain P-Value"
      ],
      "metadata": {
        "id": "oZrfquKtyian"
      },
      "execution_count": null,
      "outputs": []
    },
    {
      "cell_type": "markdown",
      "source": [
        "##### Which statistical test have you done to obtain P-Value?"
      ],
      "metadata": {
        "id": "Ou-I18pAyIpj"
      }
    },
    {
      "cell_type": "markdown",
      "source": [
        "Answer Here."
      ],
      "metadata": {
        "id": "s2U0kk00ygSB"
      }
    },
    {
      "cell_type": "markdown",
      "source": [
        "##### Why did you choose the specific statistical test?"
      ],
      "metadata": {
        "id": "fF3858GYyt-u"
      }
    },
    {
      "cell_type": "markdown",
      "source": [
        "Answer Here."
      ],
      "metadata": {
        "id": "HO4K0gP5y3B4"
      }
    },
    {
      "cell_type": "markdown",
      "source": [
        "### Hypothetical Statement - 2"
      ],
      "metadata": {
        "id": "4_0_7-oCpUZd"
      }
    },
    {
      "cell_type": "markdown",
      "source": [
        "#### 1. State Your research hypothesis as a null hypothesis and alternate hypothesis."
      ],
      "metadata": {
        "id": "hwyV_J3ipUZe"
      }
    },
    {
      "cell_type": "markdown",
      "source": [
        "Answer Here."
      ],
      "metadata": {
        "id": "FnpLGJ-4pUZe"
      }
    },
    {
      "cell_type": "markdown",
      "source": [
        "#### 2. Perform an appropriate statistical test."
      ],
      "metadata": {
        "id": "3yB-zSqbpUZe"
      }
    },
    {
      "cell_type": "code",
      "source": [
        "# Perform Statistical Test to obtain P-Value"
      ],
      "metadata": {
        "id": "sWxdNTXNpUZe"
      },
      "execution_count": null,
      "outputs": []
    },
    {
      "cell_type": "markdown",
      "source": [
        "##### Which statistical test have you done to obtain P-Value?"
      ],
      "metadata": {
        "id": "dEUvejAfpUZe"
      }
    },
    {
      "cell_type": "markdown",
      "source": [
        "Answer Here."
      ],
      "metadata": {
        "id": "oLDrPz7HpUZf"
      }
    },
    {
      "cell_type": "markdown",
      "source": [
        "##### Why did you choose the specific statistical test?"
      ],
      "metadata": {
        "id": "Fd15vwWVpUZf"
      }
    },
    {
      "cell_type": "markdown",
      "source": [
        "Answer Here."
      ],
      "metadata": {
        "id": "4xOGYyiBpUZf"
      }
    },
    {
      "cell_type": "markdown",
      "source": [
        "### Hypothetical Statement - 3"
      ],
      "metadata": {
        "id": "bn_IUdTipZyH"
      }
    },
    {
      "cell_type": "markdown",
      "source": [
        "#### 1. State Your research hypothesis as a null hypothesis and alternate hypothesis."
      ],
      "metadata": {
        "id": "49K5P_iCpZyH"
      }
    },
    {
      "cell_type": "markdown",
      "source": [
        "Answer Here."
      ],
      "metadata": {
        "id": "7gWI5rT9pZyH"
      }
    },
    {
      "cell_type": "markdown",
      "source": [
        "#### 2. Perform an appropriate statistical test."
      ],
      "metadata": {
        "id": "Nff-vKELpZyI"
      }
    },
    {
      "cell_type": "code",
      "source": [
        "# Perform Statistical Test to obtain P-Value"
      ],
      "metadata": {
        "id": "s6AnJQjtpZyI"
      },
      "execution_count": null,
      "outputs": []
    },
    {
      "cell_type": "markdown",
      "source": [
        "##### Which statistical test have you done to obtain P-Value?"
      ],
      "metadata": {
        "id": "kLW572S8pZyI"
      }
    },
    {
      "cell_type": "markdown",
      "source": [
        "Answer Here."
      ],
      "metadata": {
        "id": "ytWJ8v15pZyI"
      }
    },
    {
      "cell_type": "markdown",
      "source": [
        "##### Why did you choose the specific statistical test?"
      ],
      "metadata": {
        "id": "dWbDXHzopZyI"
      }
    },
    {
      "cell_type": "markdown",
      "source": [
        "Answer Here."
      ],
      "metadata": {
        "id": "M99G98V6pZyI"
      }
    },
    {
      "cell_type": "markdown",
      "source": [
        "## ***6. Feature Engineering & Data Pre-processing***"
      ],
      "metadata": {
        "id": "yLjJCtPM0KBk"
      }
    },
    {
      "cell_type": "markdown",
      "source": [
        "### 1. Handling Missing Values"
      ],
      "metadata": {
        "id": "xiyOF9F70UgQ"
      }
    },
    {
      "cell_type": "code",
      "source": [
        "# Handling Missing Values & Missing Value Imputation"
      ],
      "metadata": {
        "id": "iRsAHk1K0fpS"
      },
      "execution_count": null,
      "outputs": []
    },
    {
      "cell_type": "markdown",
      "source": [
        "#### What all missing value imputation techniques have you used and why did you use those techniques?"
      ],
      "metadata": {
        "id": "7wuGOrhz0itI"
      }
    },
    {
      "cell_type": "markdown",
      "source": [
        "Answer Here."
      ],
      "metadata": {
        "id": "1ixusLtI0pqI"
      }
    },
    {
      "cell_type": "markdown",
      "source": [
        "### 2. Handling Outliers"
      ],
      "metadata": {
        "id": "id1riN9m0vUs"
      }
    },
    {
      "cell_type": "code",
      "source": [
        "# Handling Outliers & Outlier treatments"
      ],
      "metadata": {
        "id": "M6w2CzZf04JK"
      },
      "execution_count": null,
      "outputs": []
    },
    {
      "cell_type": "markdown",
      "source": [
        "##### What all outlier treatment techniques have you used and why did you use those techniques?"
      ],
      "metadata": {
        "id": "578E2V7j08f6"
      }
    },
    {
      "cell_type": "markdown",
      "source": [
        "Answer Here."
      ],
      "metadata": {
        "id": "uGZz5OrT1HH-"
      }
    },
    {
      "cell_type": "markdown",
      "source": [
        "### 3. Categorical Encoding"
      ],
      "metadata": {
        "id": "89xtkJwZ18nB"
      }
    },
    {
      "cell_type": "code",
      "source": [
        "# Encode your categorical columns"
      ],
      "metadata": {
        "id": "21JmIYMG2hEo"
      },
      "execution_count": null,
      "outputs": []
    },
    {
      "cell_type": "markdown",
      "source": [
        "#### What all categorical encoding techniques have you used & why did you use those techniques?"
      ],
      "metadata": {
        "id": "67NQN5KX2AMe"
      }
    },
    {
      "cell_type": "markdown",
      "source": [
        "Answer Here."
      ],
      "metadata": {
        "id": "UDaue5h32n_G"
      }
    },
    {
      "cell_type": "markdown",
      "source": [
        "### 4. Textual Data Preprocessing\n",
        "(It's mandatory for textual dataset i.e., NLP, Sentiment Analysis, Text Clustering etc.)"
      ],
      "metadata": {
        "id": "Iwf50b-R2tYG"
      }
    },
    {
      "cell_type": "markdown",
      "source": [
        "#### 1. Expand Contraction"
      ],
      "metadata": {
        "id": "GMQiZwjn3iu7"
      }
    },
    {
      "cell_type": "code",
      "source": [
        "# Expand Contraction"
      ],
      "metadata": {
        "id": "PTouz10C3oNN"
      },
      "execution_count": null,
      "outputs": []
    },
    {
      "cell_type": "markdown",
      "source": [
        "#### 2. Lower Casing"
      ],
      "metadata": {
        "id": "WVIkgGqN3qsr"
      }
    },
    {
      "cell_type": "code",
      "source": [
        "# Lower Casing"
      ],
      "metadata": {
        "id": "88JnJ1jN3w7j"
      },
      "execution_count": null,
      "outputs": []
    },
    {
      "cell_type": "markdown",
      "source": [
        "#### 3. Removing Punctuations"
      ],
      "metadata": {
        "id": "XkPnILGE3zoT"
      }
    },
    {
      "cell_type": "code",
      "source": [
        "# Remove Punctuations"
      ],
      "metadata": {
        "id": "vqbBqNaA33c0"
      },
      "execution_count": null,
      "outputs": []
    },
    {
      "cell_type": "markdown",
      "source": [
        "#### 4. Removing URLs & Removing words and digits contain digits."
      ],
      "metadata": {
        "id": "Hlsf0x5436Go"
      }
    },
    {
      "cell_type": "code",
      "source": [
        "# Remove URLs & Remove words and digits contain digits"
      ],
      "metadata": {
        "id": "2sxKgKxu4Ip3"
      },
      "execution_count": null,
      "outputs": []
    },
    {
      "cell_type": "markdown",
      "source": [
        "#### 5. Removing Stopwords & Removing White spaces"
      ],
      "metadata": {
        "id": "mT9DMSJo4nBL"
      }
    },
    {
      "cell_type": "code",
      "source": [
        "# Remove Stopwords"
      ],
      "metadata": {
        "id": "T2LSJh154s8W"
      },
      "execution_count": null,
      "outputs": []
    },
    {
      "cell_type": "code",
      "source": [
        "# Remove White spaces"
      ],
      "metadata": {
        "id": "EgLJGffy4vm0"
      },
      "execution_count": null,
      "outputs": []
    },
    {
      "cell_type": "markdown",
      "source": [
        "#### 6. Rephrase Text"
      ],
      "metadata": {
        "id": "c49ITxTc407N"
      }
    },
    {
      "cell_type": "code",
      "source": [
        "# Rephrase Text"
      ],
      "metadata": {
        "id": "foqY80Qu48N2"
      },
      "execution_count": null,
      "outputs": []
    },
    {
      "cell_type": "markdown",
      "source": [
        "#### 7. Tokenization"
      ],
      "metadata": {
        "id": "OeJFEK0N496M"
      }
    },
    {
      "cell_type": "code",
      "source": [
        "# Tokenization"
      ],
      "metadata": {
        "id": "ijx1rUOS5CUU"
      },
      "execution_count": null,
      "outputs": []
    },
    {
      "cell_type": "markdown",
      "source": [
        "#### 8. Text Normalization"
      ],
      "metadata": {
        "id": "9ExmJH0g5HBk"
      }
    },
    {
      "cell_type": "code",
      "source": [
        "# Normalizing Text (i.e., Stemming, Lemmatization etc.)"
      ],
      "metadata": {
        "id": "AIJ1a-Zc5PY8"
      },
      "execution_count": null,
      "outputs": []
    },
    {
      "cell_type": "markdown",
      "source": [
        "##### Which text normalization technique have you used and why?"
      ],
      "metadata": {
        "id": "cJNqERVU536h"
      }
    },
    {
      "cell_type": "markdown",
      "source": [
        "Answer Here."
      ],
      "metadata": {
        "id": "Z9jKVxE06BC1"
      }
    },
    {
      "cell_type": "markdown",
      "source": [
        "#### 9. Part of speech tagging"
      ],
      "metadata": {
        "id": "k5UmGsbsOxih"
      }
    },
    {
      "cell_type": "code",
      "source": [
        "# POS Taging"
      ],
      "metadata": {
        "id": "btT3ZJBAO6Ik"
      },
      "execution_count": null,
      "outputs": []
    },
    {
      "cell_type": "markdown",
      "source": [
        "#### 10. Text Vectorization"
      ],
      "metadata": {
        "id": "T0VqWOYE6DLQ"
      }
    },
    {
      "cell_type": "code",
      "source": [
        "# Vectorizing Text"
      ],
      "metadata": {
        "id": "yBRtdhth6JDE"
      },
      "execution_count": null,
      "outputs": []
    },
    {
      "cell_type": "markdown",
      "source": [
        "##### Which text vectorization technique have you used and why?"
      ],
      "metadata": {
        "id": "qBMux9mC6MCf"
      }
    },
    {
      "cell_type": "markdown",
      "source": [
        "Answer Here."
      ],
      "metadata": {
        "id": "su2EnbCh6UKQ"
      }
    },
    {
      "cell_type": "markdown",
      "source": [
        "### 4. Feature Manipulation & Selection"
      ],
      "metadata": {
        "id": "-oLEiFgy-5Pf"
      }
    },
    {
      "cell_type": "markdown",
      "source": [
        "#### 1. Feature Manipulation"
      ],
      "metadata": {
        "id": "C74aWNz2AliB"
      }
    },
    {
      "cell_type": "code",
      "source": [
        "# Manipulate Features to minimize feature correlation and create new features"
      ],
      "metadata": {
        "id": "h1qC4yhBApWC"
      },
      "execution_count": null,
      "outputs": []
    },
    {
      "cell_type": "markdown",
      "source": [
        "#### 2. Feature Selection"
      ],
      "metadata": {
        "id": "2DejudWSA-a0"
      }
    },
    {
      "cell_type": "code",
      "source": [
        "# Select your features wisely to avoid overfitting"
      ],
      "metadata": {
        "id": "YLhe8UmaBCEE"
      },
      "execution_count": null,
      "outputs": []
    },
    {
      "cell_type": "markdown",
      "source": [
        "##### What all feature selection methods have you used  and why?"
      ],
      "metadata": {
        "id": "pEMng2IbBLp7"
      }
    },
    {
      "cell_type": "markdown",
      "source": [
        "Answer Here."
      ],
      "metadata": {
        "id": "rb2Lh6Z8BgGs"
      }
    },
    {
      "cell_type": "markdown",
      "source": [
        "##### Which all features you found important and why?"
      ],
      "metadata": {
        "id": "rAdphbQ9Bhjc"
      }
    },
    {
      "cell_type": "markdown",
      "source": [
        "Answer Here."
      ],
      "metadata": {
        "id": "fGgaEstsBnaf"
      }
    },
    {
      "cell_type": "markdown",
      "source": [
        "### 5. Data Transformation"
      ],
      "metadata": {
        "id": "TNVZ9zx19K6k"
      }
    },
    {
      "cell_type": "markdown",
      "source": [
        "#### Do you think that your data needs to be transformed? If yes, which transformation have you used. Explain Why?"
      ],
      "metadata": {
        "id": "nqoHp30x9hH9"
      }
    },
    {
      "cell_type": "code",
      "source": [
        "# Transform Your data"
      ],
      "metadata": {
        "id": "I6quWQ1T9rtH"
      },
      "execution_count": null,
      "outputs": []
    },
    {
      "cell_type": "markdown",
      "source": [
        "### 6. Data Scaling"
      ],
      "metadata": {
        "id": "rMDnDkt2B6du"
      }
    },
    {
      "cell_type": "code",
      "source": [
        "# Scaling your data"
      ],
      "metadata": {
        "id": "dL9LWpySC6x_"
      },
      "execution_count": null,
      "outputs": []
    },
    {
      "cell_type": "markdown",
      "source": [
        "##### Which method have you used to scale you data and why?"
      ],
      "metadata": {
        "id": "yiiVWRdJDDil"
      }
    },
    {
      "cell_type": "markdown",
      "source": [
        "### 7. Dimesionality Reduction"
      ],
      "metadata": {
        "id": "1UUpS68QDMuG"
      }
    },
    {
      "cell_type": "markdown",
      "source": [
        "##### Do you think that dimensionality reduction is needed? Explain Why?"
      ],
      "metadata": {
        "id": "kexQrXU-DjzY"
      }
    },
    {
      "cell_type": "markdown",
      "source": [
        "Answer Here."
      ],
      "metadata": {
        "id": "GGRlBsSGDtTQ"
      }
    },
    {
      "cell_type": "code",
      "source": [
        "# DImensionality Reduction (If needed)"
      ],
      "metadata": {
        "id": "kQfvxBBHDvCa"
      },
      "execution_count": null,
      "outputs": []
    },
    {
      "cell_type": "markdown",
      "source": [
        "##### Which dimensionality reduction technique have you used and why? (If dimensionality reduction done on dataset.)"
      ],
      "metadata": {
        "id": "T5CmagL3EC8N"
      }
    },
    {
      "cell_type": "markdown",
      "source": [
        "Answer Here."
      ],
      "metadata": {
        "id": "ZKr75IDuEM7t"
      }
    },
    {
      "cell_type": "markdown",
      "source": [
        "### 8. Data Splitting"
      ],
      "metadata": {
        "id": "BhH2vgX9EjGr"
      }
    },
    {
      "cell_type": "code",
      "source": [
        "# Split your data to train and test. Choose Splitting ratio wisely."
      ],
      "metadata": {
        "id": "0CTyd2UwEyNM"
      },
      "execution_count": null,
      "outputs": []
    },
    {
      "cell_type": "markdown",
      "source": [
        "##### What data splitting ratio have you used and why?"
      ],
      "metadata": {
        "id": "qjKvONjwE8ra"
      }
    },
    {
      "cell_type": "markdown",
      "source": [
        "Answer Here."
      ],
      "metadata": {
        "id": "Y2lJ8cobFDb_"
      }
    },
    {
      "cell_type": "markdown",
      "source": [
        "### 9. Handling Imbalanced Dataset"
      ],
      "metadata": {
        "id": "P1XJ9OREExlT"
      }
    },
    {
      "cell_type": "markdown",
      "source": [
        "##### Do you think the dataset is imbalanced? Explain Why."
      ],
      "metadata": {
        "id": "VFOzZv6IFROw"
      }
    },
    {
      "cell_type": "markdown",
      "source": [
        "Answer Here."
      ],
      "metadata": {
        "id": "GeKDIv7pFgcC"
      }
    },
    {
      "cell_type": "code",
      "source": [
        "# Handling Imbalanced Dataset (If needed)"
      ],
      "metadata": {
        "id": "nQsRhhZLFiDs"
      },
      "execution_count": null,
      "outputs": []
    },
    {
      "cell_type": "markdown",
      "source": [
        "##### What technique did you use to handle the imbalance dataset and why? (If needed to be balanced)"
      ],
      "metadata": {
        "id": "TIqpNgepFxVj"
      }
    },
    {
      "cell_type": "markdown",
      "source": [
        "Answer Here."
      ],
      "metadata": {
        "id": "qbet1HwdGDTz"
      }
    },
    {
      "cell_type": "markdown",
      "source": [
        "## ***7. ML Model Implementation***"
      ],
      "metadata": {
        "id": "VfCC591jGiD4"
      }
    },
    {
      "cell_type": "markdown",
      "source": [
        "### ML Model - 1"
      ],
      "metadata": {
        "id": "OB4l2ZhMeS1U"
      }
    },
    {
      "cell_type": "code",
      "source": [
        "# ML Model - 1 Implementation\n",
        "\n",
        "# Fit the Algorithm\n",
        "\n",
        "# Predict on the model"
      ],
      "metadata": {
        "id": "7ebyywQieS1U"
      },
      "execution_count": null,
      "outputs": []
    },
    {
      "cell_type": "markdown",
      "source": [
        "#### 1. Explain the ML Model used and it's performance using Evaluation metric Score Chart."
      ],
      "metadata": {
        "id": "ArJBuiUVfxKd"
      }
    },
    {
      "cell_type": "code",
      "source": [
        "# Visualizing evaluation Metric Score chart"
      ],
      "metadata": {
        "id": "rqD5ZohzfxKe"
      },
      "execution_count": null,
      "outputs": []
    },
    {
      "cell_type": "markdown",
      "source": [
        "#### 2. Cross- Validation & Hyperparameter Tuning"
      ],
      "metadata": {
        "id": "4qY1EAkEfxKe"
      }
    },
    {
      "cell_type": "code",
      "source": [
        "# ML Model - 1 Implementation with hyperparameter optimization techniques (i.e., GridSearch CV, RandomSearch CV, Bayesian Optimization etc.)\n",
        "\n",
        "# Fit the Algorithm\n",
        "\n",
        "# Predict on the model"
      ],
      "metadata": {
        "id": "Dy61ujd6fxKe"
      },
      "execution_count": null,
      "outputs": []
    },
    {
      "cell_type": "markdown",
      "source": [
        "##### Which hyperparameter optimization technique have you used and why?"
      ],
      "metadata": {
        "id": "PiV4Ypx8fxKe"
      }
    },
    {
      "cell_type": "markdown",
      "source": [
        "Answer Here."
      ],
      "metadata": {
        "id": "negyGRa7fxKf"
      }
    },
    {
      "cell_type": "markdown",
      "source": [
        "##### Have you seen any improvement? Note down the improvement with updates Evaluation metric Score Chart."
      ],
      "metadata": {
        "id": "TfvqoZmBfxKf"
      }
    },
    {
      "cell_type": "markdown",
      "source": [
        "Answer Here."
      ],
      "metadata": {
        "id": "OaLui8CcfxKf"
      }
    },
    {
      "cell_type": "markdown",
      "source": [
        "### ML Model - 2"
      ],
      "metadata": {
        "id": "dJ2tPlVmpsJ0"
      }
    },
    {
      "cell_type": "markdown",
      "source": [
        "#### 1. Explain the ML Model used and it's performance using Evaluation metric Score Chart."
      ],
      "metadata": {
        "id": "JWYfwnehpsJ1"
      }
    },
    {
      "cell_type": "code",
      "source": [
        "# Visualizing evaluation Metric Score chart"
      ],
      "metadata": {
        "id": "yEl-hgQWpsJ1"
      },
      "execution_count": null,
      "outputs": []
    },
    {
      "cell_type": "markdown",
      "source": [
        "#### 2. Cross- Validation & Hyperparameter Tuning"
      ],
      "metadata": {
        "id": "-jK_YjpMpsJ2"
      }
    },
    {
      "cell_type": "code",
      "source": [
        "# ML Model - 1 Implementation with hyperparameter optimization techniques (i.e., GridSearch CV, RandomSearch CV, Bayesian Optimization etc.)\n",
        "\n",
        "# Fit the Algorithm\n",
        "\n",
        "# Predict on the model"
      ],
      "metadata": {
        "id": "Dn0EOfS6psJ2"
      },
      "execution_count": null,
      "outputs": []
    },
    {
      "cell_type": "markdown",
      "source": [
        "##### Which hyperparameter optimization technique have you used and why?"
      ],
      "metadata": {
        "id": "HAih1iBOpsJ2"
      }
    },
    {
      "cell_type": "markdown",
      "source": [
        "Answer Here."
      ],
      "metadata": {
        "id": "9kBgjYcdpsJ2"
      }
    },
    {
      "cell_type": "markdown",
      "source": [
        "##### Have you seen any improvement? Note down the improvement with updates Evaluation metric Score Chart."
      ],
      "metadata": {
        "id": "zVGeBEFhpsJ2"
      }
    },
    {
      "cell_type": "markdown",
      "source": [
        "Answer Here."
      ],
      "metadata": {
        "id": "74yRdG6UpsJ3"
      }
    },
    {
      "cell_type": "markdown",
      "source": [
        "#### 3. Explain each evaluation metric's indication towards business and the business impact pf the ML model used."
      ],
      "metadata": {
        "id": "bmKjuQ-FpsJ3"
      }
    },
    {
      "cell_type": "markdown",
      "source": [
        "Answer Here."
      ],
      "metadata": {
        "id": "BDKtOrBQpsJ3"
      }
    },
    {
      "cell_type": "markdown",
      "source": [
        "### ML Model - 3"
      ],
      "metadata": {
        "id": "Fze-IPXLpx6K"
      }
    },
    {
      "cell_type": "code",
      "source": [
        "# ML Model - 3 Implementation\n",
        "\n",
        "# Fit the Algorithm\n",
        "\n",
        "# Predict on the model"
      ],
      "metadata": {
        "id": "FFrSXAtrpx6M"
      },
      "execution_count": null,
      "outputs": []
    },
    {
      "cell_type": "markdown",
      "source": [
        "#### 1. Explain the ML Model used and it's performance using Evaluation metric Score Chart."
      ],
      "metadata": {
        "id": "7AN1z2sKpx6M"
      }
    },
    {
      "cell_type": "code",
      "source": [
        "# Visualizing evaluation Metric Score chart"
      ],
      "metadata": {
        "id": "xIY4lxxGpx6M"
      },
      "execution_count": null,
      "outputs": []
    },
    {
      "cell_type": "markdown",
      "source": [
        "#### 2. Cross- Validation & Hyperparameter Tuning"
      ],
      "metadata": {
        "id": "9PIHJqyupx6M"
      }
    },
    {
      "cell_type": "code",
      "source": [
        "# ML Model - 3 Implementation with hyperparameter optimization techniques (i.e., GridSearch CV, RandomSearch CV, Bayesian Optimization etc.)\n",
        "\n",
        "# Fit the Algorithm\n",
        "\n",
        "# Predict on the model"
      ],
      "metadata": {
        "id": "eSVXuaSKpx6M"
      },
      "execution_count": null,
      "outputs": []
    },
    {
      "cell_type": "markdown",
      "source": [
        "##### Which hyperparameter optimization technique have you used and why?"
      ],
      "metadata": {
        "id": "_-qAgymDpx6N"
      }
    },
    {
      "cell_type": "markdown",
      "source": [
        "Answer Here."
      ],
      "metadata": {
        "id": "lQMffxkwpx6N"
      }
    },
    {
      "cell_type": "markdown",
      "source": [
        "##### Have you seen any improvement? Note down the improvement with updates Evaluation metric Score Chart."
      ],
      "metadata": {
        "id": "Z-hykwinpx6N"
      }
    },
    {
      "cell_type": "markdown",
      "source": [
        "Answer Here."
      ],
      "metadata": {
        "id": "MzVzZC6opx6N"
      }
    },
    {
      "cell_type": "markdown",
      "source": [
        "### 1. Which Evaluation metrics did you consider for a positive business impact and why?"
      ],
      "metadata": {
        "id": "h_CCil-SKHpo"
      }
    },
    {
      "cell_type": "markdown",
      "source": [
        "Answer Here."
      ],
      "metadata": {
        "id": "jHVz9hHDKFms"
      }
    },
    {
      "cell_type": "markdown",
      "source": [
        "### 2. Which ML model did you choose from the above created models as your final prediction model and why?"
      ],
      "metadata": {
        "id": "cBFFvTBNJzUa"
      }
    },
    {
      "cell_type": "markdown",
      "source": [
        "Answer Here."
      ],
      "metadata": {
        "id": "6ksF5Q1LKTVm"
      }
    },
    {
      "cell_type": "markdown",
      "source": [
        "### 3. Explain the model which you have used and the feature importance using any model explainability tool?"
      ],
      "metadata": {
        "id": "HvGl1hHyA_VK"
      }
    },
    {
      "cell_type": "markdown",
      "source": [
        "Answer Here."
      ],
      "metadata": {
        "id": "YnvVTiIxBL-C"
      }
    },
    {
      "cell_type": "markdown",
      "source": [
        "## ***8.*** ***Future Work (Optional)***"
      ],
      "metadata": {
        "id": "EyNgTHvd2WFk"
      }
    },
    {
      "cell_type": "markdown",
      "source": [
        "### 1. Save the best performing ml model in a pickle file or joblib file format for deployment process.\n"
      ],
      "metadata": {
        "id": "KH5McJBi2d8v"
      }
    },
    {
      "cell_type": "code",
      "source": [
        "# Save the File"
      ],
      "metadata": {
        "id": "bQIANRl32f4J"
      },
      "execution_count": null,
      "outputs": []
    },
    {
      "cell_type": "markdown",
      "source": [
        "### 2. Again Load the saved model file and try to predict unseen data for a sanity check.\n"
      ],
      "metadata": {
        "id": "iW_Lq9qf2h6X"
      }
    },
    {
      "cell_type": "code",
      "source": [
        "# Load the File and predict unseen data."
      ],
      "metadata": {
        "id": "oEXk9ydD2nVC"
      },
      "execution_count": null,
      "outputs": []
    },
    {
      "cell_type": "markdown",
      "source": [
        "### ***Congrats! Your model is successfully created and ready for deployment on a live server for a real user interaction !!!***"
      ],
      "metadata": {
        "id": "-Kee-DAl2viO"
      }
    },
    {
      "cell_type": "markdown",
      "source": [
        "# **Conclusion**"
      ],
      "metadata": {
        "id": "gCX9965dhzqZ"
      }
    },
    {
      "cell_type": "markdown",
      "source": [
        "Write the conclusion here."
      ],
      "metadata": {
        "id": "Fjb1IsQkh3yE"
      }
    },
    {
      "cell_type": "markdown",
      "source": [
        "### ***Hurrah! You have successfully completed your Machine Learning Capstone Project !!!***"
      ],
      "metadata": {
        "id": "gIfDvo9L0UH2"
      }
    }
  ]
}